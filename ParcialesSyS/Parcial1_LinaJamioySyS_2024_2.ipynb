{
  "nbformat": 4,
  "nbformat_minor": 0,
  "metadata": {
    "colab": {
      "private_outputs": true,
      "provenance": [],
      "cell_execution_strategy": "setup",
      "include_colab_link": true
    },
    "kernelspec": {
      "name": "python3",
      "display_name": "Python 3"
    },
    "language_info": {
      "name": "python"
    }
  },
  "cells": [
    {
      "cell_type": "markdown",
      "metadata": {
        "id": "view-in-github",
        "colab_type": "text"
      },
      "source": [
        "<a href=\"https://colab.research.google.com/github/Robsy14/Se-ales-y-sistemas/blob/main/ParcialesSyS/Parcial1_LinaJamioySyS_2024_2.ipynb\" target=\"_parent\"><img src=\"https://colab.research.google.com/assets/colab-badge.svg\" alt=\"Open In Colab\"/></a>"
      ]
    },
    {
      "cell_type": "markdown",
      "source": [
        "# Parcial 1: Señales y Sistemas 2024-II\n",
        "\n",
        " ## Profesor: Andrés Marino Álvarez Meza, Ph.D.\n",
        "\n",
        "\n",
        "## Departamento de Ingeniería Eléctrica, Electrónica, y Computación\n",
        "## Universidad Nacional de Colombia - sede Manizales\n",
        "\n",
        "## Lina Robsana Jamioy Tisoy\n",
        "1006908436"
      ],
      "metadata": {
        "id": "1fWMHXCqNtQw"
      }
    },
    {
      "cell_type": "markdown",
      "source": [
        "# Instrucciones\n",
        "\n",
        "-- Para recibir el crédito total, sus respuestas deben estar justificadas de manera clara, detallada y concreta, mostrando los procedimientos y razonamientos paso a paso.\n",
        "\n",
        "-- Está permitido el uso de herramientas de inteligencia artificial (IA). Si las utiliza, por favor declare explícitamente cómo fueron empleadas en la resolución de cada pregunta. Incluya los prompts (consultas) y las iteraciones realizadas con las IA durante el desarrollo del parcial.\n",
        "\n",
        "-- La entrega del parcial debe realizarse antes de las 23:59 del 5 de diciembre de 2024 al correo electrónico amalvarezme@unal.edu.co mediante un enlace de GitHub.\n",
        "\n",
        "-- Los códigos deben estar debidamente comentados en las celdas correspondientes y explicados en celdas de texto (markdown). Los códigos que no incluyan comentarios ni discusiones no serán considerados en la evaluación final."
      ],
      "metadata": {
        "id": "15xl7tLEP6YA"
      }
    },
    {
      "cell_type": "markdown",
      "source": [
        "# Pregunta 1\n",
        "*   Elemento de la lista\n",
        "*   Elemento de la lista\n",
        "\n",
        "\n",
        "\n",
        "Cuál es la señal obtenida en tiempo discreto al utilizar un conversor análogo digital de 5 bits con frecuencia de muestreo de $5kHz$, entrada análoga de -3.3 a 3.3 [v], aplicado a la señal continua $x(t) = 0.3 \\cos(1000\\pi t-\\pi/4) +\n",
        "0.6 \\sin(2000\\pi t) + 0.1 \\cos(11000\\pi t-\\pi)$?. Realizar la simulación del proceso de digitalización incluyendo al menos 3 ciclos de la señal $x(t)$.\n",
        "\n",
        "En caso de que la digitalización no sea apropiada, diseñe e implemente un conversor adecuado para la señal estudiada. El convesor debe permitir configurar la cantidad de bits, rango de la entrada análoga y la frecuencia de muestreo, indicándole al usuario si dicha frecuencia es apropiada o no, y graficar la señal continua, discreta y digital."
      ],
      "metadata": {
        "id": "jmI0zzVMRLNx"
      }
    },
    {
      "cell_type": "code",
      "source": [
        "#importar las librerias\n",
        "import matplotlib.pyplot as plt #libreria para graficar\n",
        "import numpy as np #libreria para trabajar con arrreglos\n",
        "from scipy.spatial.distance import cdist # funcion cdist de scipy.spatial.distance"
      ],
      "metadata": {
        "id": "qon5Xeztvy8e"
      },
      "execution_count": null,
      "outputs": []
    },
    {
      "cell_type": "code",
      "source": [
        "#parametrod de la señal\n",
        "A1 = 0.3 #amplitud 1\n",
        "A2 = 0.6 #amplitud 2\n",
        "A3 = 0.1 #amplitud 3\n",
        "\n",
        "w1 = 1000*np.pi #frecuencia 1\n",
        "w2 = 2000*np.pi #frecuencia 2\n",
        "w3 = 11000*np.pi #frecuencia 3\n",
        "\n",
        "u1 = -np.pi/4 #fase 1\n",
        "u2 = 0 #fase 2\n",
        "u3 = -np.pi #fase 3\n",
        "\n",
        "#calculamos las frecuencias y periodos de nuestra señal\n",
        "F1 = (w1/(2*np.pi)) #frecuencia 1\n",
        "F2 = (w2/(2*np.pi)) #frecuencia 2\n",
        "F3 = (w3/(2*np.pi)) #frecuencia 3\n",
        "\n",
        "T1 = 1/F1 #periodo 1\n",
        "T2 = 1/F2 #periodo 2\n",
        "T3 = 1/F3 #periodo 3\n",
        "\n",
        "T = (1/500)#periodo de la señal cuasiperiodica\n",
        "#Fs= 5000  # frecuencia de muestreo del ejercicio\n",
        "Fs = 4*max(F1,F2,F3)# frecuencia de muestreo cumpliendo nyquist\n",
        "print(Fs)\n",
        "Ts = 1/Fs #periodo de muestreo\n",
        "\n",
        "#definimos el vector tiempo\n",
        "ti = 0 #empezamos en 0\n",
        "tf = 3*T #3 periodos hacia delante\n",
        "\n",
        "tv = np.arange(ti,tf,Ts) #tiempo de muestreo\n",
        "\n",
        "\n",
        "#construimos la señal\n",
        "x1 = A1*np.cos(w1*tv+u1)\n",
        "x2 = A2*np.sin(w2*tv+u2)\n",
        "x3 = A3*np.cos(w3*tv+u3)\n",
        "x = x1 + x2 + x3  # señanal original\n",
        "\n",
        "\n",
        "#graficas de las señales\n",
        "plt.figure(figsize=(12, 8))\n",
        "plt.plot(tv,x,'#E9967A',label='$x(t) = 0.3\\cos(1000π*t-π/4)- 0.6 \\sin(2000πt)+ 0.1\\cos(11000πt-π)$')\n",
        "plt.plot(tv,x1,'b',label='$x_1(t) = 0.3\\cos(1000πt-π/4)$')\n",
        "plt.plot(tv,x2,'#2E8B57',label='$x_2(t) = 0.6\\sin(2000πt)$')\n",
        "plt.plot(tv,x3,'#008080',label='$x_3(t) = 0.1\\cos(11000πt-π)$')\n",
        "plt.xlabel('Tiempo (s)')\n",
        "plt.ylabel('Amplitud')\n",
        "plt.grid(True)\n",
        "plt.legend()\n",
        "plt.show()"
      ],
      "metadata": {
        "id": "ZexY_91uwL8-"
      },
      "execution_count": null,
      "outputs": []
    },
    {
      "cell_type": "code",
      "source": [
        "#funcion del cero y pendiente\n",
        "def my_ceropen(x,ymin, ymax):\n",
        "  '''\n",
        "  Codigo base para simular proceso de cero y pendiente\n",
        "  Se ingresa arreglo de numpy y los valores min  y max despues de cero y pendiente\n",
        "  '''\n",
        "  xmax = max(x) # x.max()\n",
        "  xmin = min(x) # x.min()\n",
        "  m = (ymax - ymin)/(xmax - xmin)\n",
        "  c = ymin - m*xmin\n",
        "  yv = m*x + c\n",
        "  return yv\n",
        "\n",
        "ymin = -3.3\n",
        "ymax = 3.3\n",
        "xcp = my_ceropen(x, ymin, ymax)\n",
        "\n",
        "\n",
        "#graficas\n",
        "plt.figure(figsize=(12, 6))\n",
        "\n",
        "plt.subplot(121) # 1 = #filas, 2 = #columnas, 1 = # dibujo\n",
        "plt.plot(tv,x,'#E9967A',label='$x(t)$')\n",
        "plt.xlabel('tiempo [s]')\n",
        "plt.ylabel('x[tk]')\n",
        "plt.legend()\n",
        "\n",
        "plt.subplot(122)\n",
        "\n",
        "plt.plot(tv,xcp,'#8c564b',label='cero_pendiente')\n",
        "plt.xlabel('tiempo [s]')\n",
        "plt.ylabel('y[tk]')\n",
        "plt.subplots_adjust(hspace=0.5,wspace=0.5) #ajustar espaciado entre gráficas\n",
        "plt.legend()\n",
        "\n",
        "plt.show()\n",
        "\n"
      ],
      "metadata": {
        "id": "y-v9mXmJzZx5"
      },
      "execution_count": null,
      "outputs": []
    },
    {
      "cell_type": "code",
      "source": [
        "#función cuantización punto a punto\n",
        "\n",
        "def my_cuantizador(yn, vq) : #yn punto a #cuantizar, vq vector de estados\n",
        "\n",
        "  Ne = vq.shape[0] #tamaño vector de estados\n",
        "  dn = cdist(yn.reshape(-1,1),vq.reshape(-1,1))#distancia yn a vector estados, reshape(-1,1) asegura vectores columna para poder utilizar cdist\n",
        "  ind = np.argmin(dn) #posición distancia min\n",
        "  return vq[ind]\n",
        "\n",
        "#bits elegidos por el ususario\n",
        "#5 numero de bits propuestos en el ejercicio\n",
        "while True:\n",
        "    try:\n",
        "        nbits = int(input(\"Ingrese el número de bits (mayor que cero): \"))\n",
        "        if nbits > 0:\n",
        "            break\n",
        "        else:\n",
        "            print(\"El número de bits debe ser mayor que cero.\")\n",
        "    except ValueError:\n",
        "        print(\"Entrada inválida. Ingrese un número entero.\")\n",
        "\n",
        "\n",
        "num_est = 2**nbits #numero de estados de cuantificacion\n",
        "vq = np.linspace(ymin,ymax,num_est) #vector llamado vq con los niveles de cuantificacion\n",
        "\n",
        "#recorrer vector cero y spam discretizado para cuantizar\n",
        "\n",
        "for i in range(xcp.shape[0]):\n",
        "   if i==0: #primera muestra\n",
        "     yq = my_cuantizador(xcp[i],vq)\n",
        "   else:\n",
        "     yq = np.append(yq,my_cuantizador(xcp[i],vq)) #apilar datos cuantizando si i>0\n",
        "\n",
        "\n",
        "#graficar señales\n",
        "\n",
        "plt.plot(tv,xcp,c='#E9967A', label='xcp')#cs continua\n",
        "\n",
        "plt.stem(tv,xcp, label='xcp_dis')#cs discreta\n",
        "\n",
        "#estados de cuantización\n",
        "\n",
        "for v in vq:\n",
        "  plt.plot(tv,v*np.ones(len(tv)))\n",
        "\n",
        "# graficar señal Digital (discreta + cuantizada)\n",
        "\n",
        "plt.plot(tv,yq,c='#8c564b',marker='o',label='ydig', linewidth=2)\n",
        "\n",
        "plt.legend()\n",
        "plt.grid()\n",
        "plt.xlabel('t')\n",
        "plt.ylabel('Amplitud')\n",
        "plt.show()"
      ],
      "metadata": {
        "id": "0u7NZYKW02We"
      },
      "execution_count": null,
      "outputs": []
    },
    {
      "cell_type": "markdown",
      "source": [
        "# Pregunta 2\n",
        "\n",
        "---\n",
        "\n",
        "\n",
        "\n",
        "Se dispone de un sistema modelado como una \"caja negra\" (ver celdas de código). Su tarea es analizar y comprobar mediante simulaciones si el sistema cumple con las propiedades de linealidad e invariancia en el tiempo. En caso de que el sistema sea lineal e invariante con el tiempo, determine su respuesta al impulso y utilice esta respuesta para calcular la salida del sistema ante la siguiente señal:\n",
        "\n",
        "$x[n] = \\sin[100 \\pi n ] + \\sin[600 \\pi n]$"
      ],
      "metadata": {
        "id": "5Za-WbLpSele"
      }
    },
    {
      "cell_type": "code",
      "source": [
        "# cargar sistema\n",
        "FILEID = \"1J9rhh0wWHZSBd8XmWGt1ZpCsMDuoUFmm\"\n",
        "!wget --load-cookies /tmp/cookies.txt \"https://docs.google.com/uc?export=download&confirm=$(wget --quiet --save-cookies /tmp/cookies.txt --keep-session-cookies --no-check-certificate 'https://docs.google.com/uc?export=download&id='$FILEID -O- | sed -rn 's/.*confirm=([0-9A-Za-z_]+).*/\\1\\n/p')&id=\"$FILEID -O P1_model.zip && rm -rf /tmp/cookies.txt\n",
        "!unzip -o P1_model.zip\n",
        "!dir"
      ],
      "metadata": {
        "id": "6yJMMFK6zo5K"
      },
      "execution_count": null,
      "outputs": []
    },
    {
      "cell_type": "code",
      "source": [
        "import numpy as np\n",
        "import matplotlib.pyplot as plt\n",
        "import joblib\n",
        "from P1_model import system_\n",
        "from scipy.signal import firwin, freqz, lfilter, filtfilt\n",
        "\n",
        "#sistema pregunta 2\n",
        "my_system = system_.My_System()\n",
        "my_system.create_()\n",
        "fs = my_system.fs #frecuencia de muestreo\n",
        "t = np.arange(-0.01, 0.02, 1/fs)  # Tiempo\n",
        "signal_u = np.heaviside(t,1) # función heaviside\n",
        "y_u = my_system.predict(signal_u)\n",
        "\n",
        "\n",
        "# Visualización de las señales\n",
        "fig, axs = plt.subplots(2,1)\n",
        "axs[0].stem(t, signal_u, label='Señal de entrada')\n",
        "axs[0].set_xlabel('Tiempo (s)')\n",
        "axs[0].set_ylabel('Amplitud')\n",
        "axs[0].legend()\n",
        "axs[0].grid()\n",
        "axs[1].stem(t,y_u, label='Señal salida')\n",
        "axs[1].set_xlabel('Tiempo (s)')\n",
        "axs[1].set_ylabel('Amplitud')\n",
        "axs[1].legend()\n",
        "axs[1].grid()\n",
        "plt.tight_layout()\n",
        "plt.show()"
      ],
      "metadata": {
        "id": "nUX7Vr1fTUYW"
      },
      "execution_count": null,
      "outputs": []
    },
    {
      "cell_type": "markdown",
      "source": [
        "### Verificamos si cumple la linealidad y la invariancia en el tiempo para saber si el sitema es SLIT\n",
        "\n",
        "Linealidad:  $y(t)=H \\{a1x1(t)+a2x2(t)\\} = a1H\\{x1(t)\\}+a2H\\{x2(t)\\}$\n",
        "\n",
        "Invariancia con el tiempo:\n",
        "$y(t) = H\\{x(t)\\} ; y(t-to) = H\\{x(t-to)\\}$\n"
      ],
      "metadata": {
        "id": "_rGr_WNl3Hqo"
      }
    },
    {
      "cell_type": "code",
      "execution_count": null,
      "metadata": {
        "id": "DSfPWCpPNJa4"
      },
      "outputs": [],
      "source": [
        "#Comprobar linelidad\n",
        "\n",
        "t = np.arange(-0.01, 0.02, 1/fs)  # Tiempo\n",
        "\n",
        "x1 = 2\n",
        "x2 = 3\n",
        "\n",
        "signal_u = np.heaviside(t,1) # función heaviside\n",
        "y_u = my_system.predict(signal_u)\n",
        "\n",
        "signal_v = np.sin(100 * np.pi * t) #funcion sen\n",
        "y_v = my_system.predict(signal_v)\n",
        "\n",
        "s1 = x1 * y_u  #señal 1 multiplicada por estacalar\n",
        "s2 = x2 * y_v  #señal 2 multiplicada por estacalar\n",
        "\n",
        "si = x1 * signal_u + x2 * signal_v #suma de las entradas\n",
        "y_comb = my_system.predict(si)\n",
        "\n",
        "sf = s1 + s2\n",
        "\n",
        "# Visualización de las señales\n",
        "fig, axs = plt.subplots(2,1)\n",
        "axs[0].stem(t, si, label='Señal de entrada')\n",
        "axs[0].set_xlabel('Tiempo (s)')\n",
        "axs[0].set_ylabel('Amplitud')\n",
        "axs[0].legend()\n",
        "axs[0].grid()\n",
        "axs[1].stem(t,si, label='Señal salida')\n",
        "axs[1].set_xlabel('Tiempo (s)')\n",
        "axs[1].set_ylabel('Amplitud')\n",
        "axs[1].legend()\n",
        "axs[1].grid()\n",
        "plt.tight_layout()\n",
        "plt.show()"
      ]
    },
    {
      "cell_type": "markdown",
      "source": [
        "Como la señal de salida y de entrada son iguales se comprueba Linealidad"
      ],
      "metadata": {
        "id": "Y2-fBgTCLMez"
      }
    },
    {
      "cell_type": "code",
      "source": [
        "#Comprobar si es invariancia con el tiempo\n",
        "to = 0.005\n",
        "signal_u = np.heaviside(t - to,1) # función heaviside\n",
        "y_u = my_system.predict(signal_u)\n",
        "\n",
        "\n",
        "# Visualización de las señales\n",
        "fig, axs = plt.subplots(2,1)\n",
        "axs[0].stem(t, signal_u, label='Señal de entrada')\n",
        "axs[0].set_xlabel('Tiempo (s)')\n",
        "axs[0].set_ylabel('Amplitud')\n",
        "axs[0].legend()\n",
        "axs[0].grid()\n",
        "axs[1].stem(t,y_u, label='Señal salida')\n",
        "axs[1].set_xlabel('Tiempo (s)')\n",
        "axs[1].set_ylabel('Amplitud')\n",
        "axs[1].legend()\n",
        "axs[1].grid()\n",
        "plt.tight_layout()\n",
        "plt.show()"
      ],
      "metadata": {
        "id": "PLVJVrIT5WFQ"
      },
      "execution_count": null,
      "outputs": []
    },
    {
      "cell_type": "markdown",
      "source": [
        "la señal es SLIT, como vemos en los resultados de las celdas anteriores la señal es lineal e invariante en el tiempo\n",
        "\n",
        "Ahora se trabaja en la respuesta al impulso\n",
        "\n"
      ],
      "metadata": {
        "id": "qCniBdeO5kV1"
      }
    },
    {
      "cell_type": "code",
      "source": [
        "t_adjusted = t[:-1]\n",
        "h_n = np.diff(y_u) * fs  #encontramos la respuesta al impulso derivando la salida del sistema\n",
        "plt.figure()\n",
        "\n",
        "# Ajustamos el tamaño de t para que coincida con h_n\n",
        "t_adjusted = t[:-1]  # Eliminamos el último elemento de t\n",
        "\n",
        "plt.plot(t_adjusted, h_n, label='Respuesta al impulso')\n",
        "plt.xlabel('Tiempo (s)')\n",
        "plt.ylabel('Amplitud')\n",
        "plt.legend()\n",
        "plt.grid()"
      ],
      "metadata": {
        "id": "oqqJDSk45h_O"
      },
      "execution_count": null,
      "outputs": []
    },
    {
      "cell_type": "code",
      "source": [
        "n = np.round(t*fs) # numero de muestras\n",
        "\n",
        "x_1= np.sin(100 * np.pi * n)\n",
        "x_2= np.sin(600 * np.pi * n)\n",
        "\n",
        "x_n = x_1 + x_2\n",
        "\n",
        "plt.plot(n, x_n, 'g', label='Salida del sistema')\n",
        "plt.stem(n, x_n, label=\"x(t) = sin(100πt) + sin(600πt)\")\n",
        "plt.title(\"Gráfico de la entrada del sistema\")\n",
        "plt.xlabel(\"Tiempo (t)\")\n",
        "plt.ylabel(\"Amplitud\")\n",
        "plt.legend()\n",
        "plt.grid()\n",
        "plt.tight_layout()\n",
        "plt.show()"
      ],
      "metadata": {
        "id": "-rdm-WnKABGf"
      },
      "execution_count": null,
      "outputs": []
    },
    {
      "cell_type": "code",
      "source": [
        "# Realizar la convolución\n",
        "y_output = np.convolve(x_n, h_n, mode='same') / fs\n",
        "\n",
        "# Visualización de la salida\n",
        "plt.figure()\n",
        "plt.plot(n, y_output, 'g', label='Salida del sistema')\n",
        "plt.stem(n, y_output, label='Salida del sistema')\n",
        "plt.xlabel('Muestras')\n",
        "plt.ylabel('Amplitud')\n",
        "plt.legend()\n",
        "plt.grid()\n",
        "plt.title('Salida del sistema y[n]')\n",
        "plt.show()"
      ],
      "metadata": {
        "id": "eBW9zPMbALan"
      },
      "execution_count": null,
      "outputs": []
    }
  ]
}