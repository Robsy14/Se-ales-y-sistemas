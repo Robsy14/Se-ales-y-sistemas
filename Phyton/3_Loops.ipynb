{
  "nbformat": 4,
  "nbformat_minor": 0,
  "metadata": {
    "colab": {
      "provenance": [],
      "include_colab_link": true
    },
    "kernelspec": {
      "name": "python3",
      "display_name": "Python 3"
    },
    "language_info": {
      "name": "python"
    }
  },
  "cells": [
    {
      "cell_type": "markdown",
      "metadata": {
        "id": "view-in-github",
        "colab_type": "text"
      },
      "source": [
        "<a href=\"https://colab.research.google.com/github/Robsy14/Se-ales-y-sistemas/blob/main/3_Loops.ipynb\" target=\"_parent\"><img src=\"https://colab.research.google.com/assets/colab-badge.svg\" alt=\"Open In Colab\"/></a>"
      ]
    },
    {
      "cell_type": "markdown",
      "source": [
        "# Loops"
      ],
      "metadata": {
        "id": "uRd8KNK1kQsX"
      }
    },
    {
      "cell_type": "markdown",
      "source": [
        "In Python, we have two structures for loops: the for loop and the while loop (there is no do-while loop)."
      ],
      "metadata": {
        "id": "Lq8CRypykvSx"
      }
    },
    {
      "cell_type": "markdown",
      "source": [
        "\n",
        "It is important to have a clear understanding of the concepts of a counter and an accumulator, as they are essential when working with any type of loop.\n",
        "\n",
        "A counter is a variable that keeps track of the number of times a particular event or condition occurs. It is commonly used in loops to control the iteration process. The counter is usually initialized before the loop starts and is incremented or decremented with each iteration.\n",
        "\n",
        "An accumulator, on the other hand, is a variable that accumulates or collects values over multiple iterations of a loop. It is often used to calculate a sum, a product, or any other aggregate value based on the values obtained during each iteration of the loop. The accumulator is typically initialized before the loop and updated within the loop body.\n",
        "\n",
        "Both counters and accumulators play crucial roles in controlling and managing the flow of a loop, allowing you to perform specific actions based on the current state or progress of the loop iteration."
      ],
      "metadata": {
        "id": "3Z9f8FGZmx-c"
      }
    },
    {
      "cell_type": "markdown",
      "source": [
        "# While"
      ],
      "metadata": {
        "id": "Mrm12NZVqkuI"
      }
    },
    {
      "cell_type": "markdown",
      "source": [
        "\n",
        "They are also called indeterminate loops, and they are used when we know the condition that must be met to end the loop, but we do not know how many times or how long it will take."
      ],
      "metadata": {
        "id": "WJfkhkJqqoeg"
      }
    },
    {
      "cell_type": "code",
      "source": [
        "condition = 1\n",
        "while condition:\n",
        "  print('Instructions inside the loop')\n",
        "  condition = 0\n",
        "print('Instructions outside the loop')"
      ],
      "metadata": {
        "id": "DA7VKxA1r7Nr",
        "colab": {
          "base_uri": "https://localhost:8080/"
        },
        "outputId": "da49a09c-03fd-428d-b127-a90bd01989ff"
      },
      "execution_count": 1,
      "outputs": [
        {
          "output_type": "stream",
          "name": "stdout",
          "text": [
            "Instructions inside the loop\n",
            "Instructions outside the loop\n"
          ]
        }
      ]
    },
    {
      "cell_type": "markdown",
      "source": [
        "The structure of the loop is very simple, as the only thing that needs to be specified is the condition that must be met to continue in the loop. Essentially, it functions similarly to a conditional if() statement, except that the code inside the loop will be executed as many times as necessary as long as the condition is true."
      ],
      "metadata": {
        "id": "yaBIfZnxsDkm"
      }
    },
    {
      "cell_type": "markdown",
      "source": [
        "Since the loop can be understood as a conditional statement, it works in the same way for boolean values, as well as for the values 1 and 0 explained in other materials."
      ],
      "metadata": {
        "id": "WPIk5_K98Zm_"
      }
    },
    {
      "cell_type": "code",
      "source": [
        "\n",
        "a = 1\n",
        "while a:\n",
        "  print(\"Choose an option:\\n1. ---\\n2. ---\\n0. Exit\\n\\n\")\n",
        "  a = int(input())\n"
      ],
      "metadata": {
        "colab": {
          "base_uri": "https://localhost:8080/"
        },
        "id": "hyjsllWj8mxh",
        "outputId": "2255eafc-c2a4-42d0-d05e-e34268abb91d"
      },
      "execution_count": 3,
      "outputs": [
        {
          "name": "stdout",
          "output_type": "stream",
          "text": [
            "Choose an option:\n",
            "1. ---\n",
            "2. ---\n",
            "0. Exit\n",
            "\n",
            "\n",
            "2\n",
            "Choose an option:\n",
            "1. ---\n",
            "2. ---\n",
            "0. Exit\n",
            "\n",
            "\n",
            "1\n",
            "Choose an option:\n",
            "1. ---\n",
            "2. ---\n",
            "0. Exit\n",
            "\n",
            "\n",
            "6\n",
            "Choose an option:\n",
            "1. ---\n",
            "2. ---\n",
            "0. Exit\n",
            "\n",
            "\n",
            "0\n"
          ]
        }
      ]
    },
    {
      "cell_type": "markdown",
      "source": [
        "\n",
        "In the previous example, we relied on the value of 'a' itself as the condition for the loop.\n",
        "\n",
        "However, assigning a value beforehand can sometimes cause issues.\n",
        "\n",
        "Another way to do it is by directly performing a comparison as the loop condition."
      ],
      "metadata": {
        "id": "7aMLABfg-56z"
      }
    },
    {
      "cell_type": "code",
      "source": [
        "number = int(input('Enter an integer number. 0 to finish: '))\n",
        "\n",
        "while number != 0:\n",
        "    number = int(input('Enter an integer number. 0 to finish: '))\n",
        "\n",
        "print('End of the program.')"
      ],
      "metadata": {
        "id": "XbbgoZmy-peb",
        "colab": {
          "base_uri": "https://localhost:8080/"
        },
        "outputId": "bfeae39d-2e52-4e65-efa0-da9cca95fe76"
      },
      "execution_count": 4,
      "outputs": [
        {
          "output_type": "stream",
          "name": "stdout",
          "text": [
            "Enter an integer number. 0 to finish: 8\n",
            "Enter an integer number. 0 to finish: 4\n",
            "Enter an integer number. 0 to finish: 9\n",
            "Enter an integer number. 0 to finish: 0\n",
            "End of the program.\n"
          ]
        }
      ]
    },
    {
      "cell_type": "markdown",
      "source": [
        "Then, it is possible to use infinite loops like while(True) or while(1) if something is required to run all the time.\n",
        "\n",
        "Though it is not ideal to use it with the while() loop, it exists the statement break, which allows to get out of the loop in the previous scenaries, in case that it is critical not to run the remaining lines before ending the loop."
      ],
      "metadata": {
        "id": "Zo4CJm8Y1F6v"
      }
    },
    {
      "cell_type": "markdown",
      "source": [
        "A common error using while() loops consists of not updating the control variable, thus creating a non intentional infinite loop (a bug in the code)."
      ],
      "metadata": {
        "id": "pzRE4NGG3BzJ"
      }
    },
    {
      "cell_type": "code",
      "source": [
        "i = 0\n",
        "\n",
        "# Run this loop as long as i is less than 15\n",
        "while i < 15:\n",
        "    # Show a message\n",
        "    print(\"¡Hello world!\")\n",
        "    i+=1\n",
        "\n"
      ],
      "metadata": {
        "colab": {
          "base_uri": "https://localhost:8080/"
        },
        "id": "_Nue_w3kD8hM",
        "outputId": "f6d9d9f2-431a-4e76-c58f-c4efa0c39d66"
      },
      "execution_count": 5,
      "outputs": [
        {
          "output_type": "stream",
          "name": "stdout",
          "text": [
            "¡Hello world!\n",
            "¡Hello world!\n",
            "¡Hello world!\n",
            "¡Hello world!\n",
            "¡Hello world!\n",
            "¡Hello world!\n",
            "¡Hello world!\n",
            "¡Hello world!\n",
            "¡Hello world!\n",
            "¡Hello world!\n",
            "¡Hello world!\n",
            "¡Hello world!\n",
            "¡Hello world!\n",
            "¡Hello world!\n",
            "¡Hello world!\n"
          ]
        }
      ]
    },
    {
      "cell_type": "code",
      "source": [
        "4%2 #the % operator give you the residual between the numbers!"
      ],
      "metadata": {
        "colab": {
          "base_uri": "https://localhost:8080/"
        },
        "id": "czWXNiR63RrX",
        "outputId": "783d886e-f3d7-45b4-ea4b-94d5974b2c42"
      },
      "execution_count": null,
      "outputs": [
        {
          "output_type": "execute_result",
          "data": {
            "text/plain": [
              "0"
            ]
          },
          "metadata": {},
          "execution_count": 8
        }
      ]
    },
    {
      "cell_type": "markdown",
      "source": [
        "# For"
      ],
      "metadata": {
        "id": "44UnVO99qBW8"
      }
    },
    {
      "cell_type": "markdown",
      "source": [
        "for() loops are used to have complete control of how many iterations will be done.\n",
        "\n",
        "It is necessary to have an \"initial\" value and a \"final\" value.\n",
        "\n",
        "Optionally we can have a determined step size.\n",
        "\n",
        "Opposite to C, for example, where we have all of these arguments in the loop statement, in Python we have to use the [range](https://www.w3schools.com/python/ref_func_range.asp) function."
      ],
      "metadata": {
        "id": "ctcL3DMt5sW0"
      }
    },
    {
      "cell_type": "code",
      "execution_count": null,
      "metadata": {
        "id": "ClsJH4_skOmN"
      },
      "outputs": [],
      "source": [
        "#for counter_variable in range(initial_value, final_value, step_size):\n",
        "\n",
        "    # code within the loop\n",
        "\n",
        "\n",
        "# code out of the loop"
      ]
    },
    {
      "cell_type": "markdown",
      "source": [
        "For example, it we want a code to show all the even numbers from 900 to 1000, we have:"
      ],
      "metadata": {
        "id": "l0Jan_9Y7mrC"
      }
    },
    {
      "cell_type": "code",
      "source": [
        "for i in range(900, 1000, 2):\n",
        "    print(i)"
      ],
      "metadata": {
        "colab": {
          "base_uri": "https://localhost:8080/"
        },
        "id": "tw2P0KwpI2vX",
        "outputId": "f333165a-b4fe-4db3-8fd5-94fa75630f14"
      },
      "execution_count": null,
      "outputs": [
        {
          "output_type": "stream",
          "name": "stdout",
          "text": [
            "900\n",
            "902\n",
            "904\n",
            "906\n",
            "908\n",
            "910\n",
            "912\n",
            "914\n",
            "916\n",
            "918\n",
            "920\n",
            "922\n",
            "924\n",
            "926\n",
            "928\n",
            "930\n",
            "932\n",
            "934\n",
            "936\n",
            "938\n",
            "940\n",
            "942\n",
            "944\n",
            "946\n",
            "948\n",
            "950\n",
            "952\n",
            "954\n",
            "956\n",
            "958\n",
            "960\n",
            "962\n",
            "964\n",
            "966\n",
            "968\n",
            "970\n",
            "972\n",
            "974\n",
            "976\n",
            "978\n",
            "980\n",
            "982\n",
            "984\n",
            "986\n",
            "988\n",
            "990\n",
            "992\n",
            "994\n",
            "996\n",
            "998\n"
          ]
        }
      ]
    },
    {
      "cell_type": "markdown",
      "source": [
        "We can see how it printed until 998 (as it was shown, we take until one number prior; if we would like to include 1000, it should be at least until 1001).\n"
      ],
      "metadata": {
        "id": "tj6zSb2M7zLL"
      }
    },
    {
      "cell_type": "markdown",
      "source": [
        "We can take advantage of the default arguments of the range() function for the following example, where we take the numbers from 0 to 10000 and we count all of them which are multiple of 33."
      ],
      "metadata": {
        "id": "bINzUaMU8NXL"
      }
    },
    {
      "cell_type": "code",
      "source": [
        "counter = 0\n",
        "\n",
        "for i in range(10000):\n",
        "    if (i % 33 == 0): # residual == 0?\n",
        "        counter += 1\n",
        "\n",
        "#show counter\n",
        "print(counter)"
      ],
      "metadata": {
        "colab": {
          "base_uri": "https://localhost:8080/"
        },
        "id": "r7trlV1HAl0x",
        "outputId": "37215446-3874-4746-eb11-323e015647cb"
      },
      "execution_count": 6,
      "outputs": [
        {
          "output_type": "stream",
          "name": "stdout",
          "text": [
            "304\n"
          ]
        }
      ]
    },
    {
      "cell_type": "markdown",
      "source": [
        "For loops are used for excellence to go over arrays, lists or matrices, as their dimensions are fixed values, and allow to iterate its elements at please."
      ],
      "metadata": {
        "id": "ged0cwjO8xCh"
      }
    },
    {
      "cell_type": "code",
      "source": [
        "a = [8, 10, 23, 17, 15] #list of numbers\n",
        "\n",
        "for i in range(len(a)):\n",
        "  print(a[i])"
      ],
      "metadata": {
        "colab": {
          "base_uri": "https://localhost:8080/"
        },
        "id": "0o0S2rWrCiQ_",
        "outputId": "a8ef7798-b6cb-4c7f-b912-9db18c25419e"
      },
      "execution_count": 8,
      "outputs": [
        {
          "output_type": "stream",
          "name": "stdout",
          "text": [
            "8\n",
            "10\n",
            "23\n",
            "17\n",
            "15\n"
          ]
        }
      ]
    },
    {
      "cell_type": "markdown",
      "source": [
        "It's important to note how len(a) returns the number of elements, but in Python, the index goes from zero, that's why all of the elements were printed. Let's see the difference:"
      ],
      "metadata": {
        "id": "izZJYSAT9ojn"
      }
    },
    {
      "cell_type": "code",
      "source": [
        "len(a)"
      ],
      "metadata": {
        "colab": {
          "base_uri": "https://localhost:8080/"
        },
        "id": "bQtDFIsyDTMz",
        "outputId": "47d8526c-f096-4849-8394-878bff6485a5"
      },
      "execution_count": 10,
      "outputs": [
        {
          "output_type": "execute_result",
          "data": {
            "text/plain": [
              "5"
            ]
          },
          "metadata": {},
          "execution_count": 10
        }
      ]
    },
    {
      "cell_type": "code",
      "source": [
        "for i in range(4):\n",
        "  print(a[i])"
      ],
      "metadata": {
        "colab": {
          "base_uri": "https://localhost:8080/"
        },
        "id": "cHLdaslmDL12",
        "outputId": "ab5022d8-56c0-4bff-c11c-e115d93df68a"
      },
      "execution_count": 11,
      "outputs": [
        {
          "output_type": "stream",
          "name": "stdout",
          "text": [
            "8\n",
            "10\n",
            "23\n",
            "17\n"
          ]
        }
      ]
    },
    {
      "cell_type": "code",
      "source": [
        "for i in range(5):\n",
        "  print(a[i])"
      ],
      "metadata": {
        "colab": {
          "base_uri": "https://localhost:8080/"
        },
        "id": "h2v8nwl3DQ4j",
        "outputId": "94e2043e-ee1d-415b-a31a-baa25bfb7895"
      },
      "execution_count": null,
      "outputs": [
        {
          "output_type": "stream",
          "name": "stdout",
          "text": [
            "8\n",
            "10\n",
            "23\n",
            "17\n",
            "15\n"
          ]
        }
      ]
    },
    {
      "cell_type": "markdown",
      "source": [
        "Then, as we have nested conditionals, we can also have nested loops, where each iteration of the external loops makes one full iteration of the internal loop. Combining it with the things said before, let's see an example with a matrix (list of lists):"
      ],
      "metadata": {
        "id": "50Zi69eu96KX"
      }
    },
    {
      "cell_type": "code",
      "source": [
        "M = [[1,3,4],[5,6,7],[8,9,2]]\n",
        "M"
      ],
      "metadata": {
        "colab": {
          "base_uri": "https://localhost:8080/"
        },
        "id": "MSXwFy5vDXqR",
        "outputId": "dd687ae4-a9b4-44ec-c859-0c154cb0114d"
      },
      "execution_count": 12,
      "outputs": [
        {
          "output_type": "execute_result",
          "data": {
            "text/plain": [
              "[[1, 3, 4], [5, 6, 7], [8, 9, 2]]"
            ]
          },
          "metadata": {},
          "execution_count": 12
        }
      ]
    },
    {
      "cell_type": "code",
      "source": [
        "for i in range(3): # Rows\n",
        "  for j in range(3): # Columns\n",
        "    print(\"Row \" + str(i) + \", Column \" + str(j) + \": \" + str(M[i][j]))"
      ],
      "metadata": {
        "colab": {
          "base_uri": "https://localhost:8080/"
        },
        "id": "A6PWVZ4tDwdR",
        "outputId": "b2b3d309-3e50-445c-ca0d-7e6e3384c19c"
      },
      "execution_count": 13,
      "outputs": [
        {
          "output_type": "stream",
          "name": "stdout",
          "text": [
            "Row 0, Column 0: 1\n",
            "Row 0, Column 1: 3\n",
            "Row 0, Column 2: 4\n",
            "Row 1, Column 0: 5\n",
            "Row 1, Column 1: 6\n",
            "Row 1, Column 2: 7\n",
            "Row 2, Column 0: 8\n",
            "Row 2, Column 1: 9\n",
            "Row 2, Column 2: 2\n"
          ]
        }
      ]
    },
    {
      "cell_type": "markdown",
      "source": [
        "# Examples\n",
        "\n",
        "Write a program that prints the numbers from 1 to 100, but for multiples of three, print \"Fizz\" instead of the number, and for multiples of five, print \"Buzz\".\n",
        "\n",
        "For numbers that are multiples of both three and five, print \"FizzBuzz\""
      ],
      "metadata": {
        "id": "IzPHUa_v6ISP"
      }
    },
    {
      "cell_type": "code",
      "source": [
        "for i in range(1, 101):\n",
        "    if i % 3 == 0 and i % 5 == 0: #and operator included\n",
        "        print(\"FizzBuzz\")\n",
        "    elif i % 3 == 0:\n",
        "        print(\"Fizz\")\n",
        "    elif i % 5 == 0:\n",
        "        print(\"Buzz\")\n",
        "    else:\n",
        "        print(i)"
      ],
      "metadata": {
        "colab": {
          "base_uri": "https://localhost:8080/"
        },
        "id": "o81STarR6X0W",
        "outputId": "c553b1c0-ba5c-4b18-fb44-5e1326eabc95"
      },
      "execution_count": 14,
      "outputs": [
        {
          "output_type": "stream",
          "name": "stdout",
          "text": [
            "1\n",
            "2\n",
            "Fizz\n",
            "4\n",
            "Buzz\n",
            "Fizz\n",
            "7\n",
            "8\n",
            "Fizz\n",
            "Buzz\n",
            "11\n",
            "Fizz\n",
            "13\n",
            "14\n",
            "FizzBuzz\n",
            "16\n",
            "17\n",
            "Fizz\n",
            "19\n",
            "Buzz\n",
            "Fizz\n",
            "22\n",
            "23\n",
            "Fizz\n",
            "Buzz\n",
            "26\n",
            "Fizz\n",
            "28\n",
            "29\n",
            "FizzBuzz\n",
            "31\n",
            "32\n",
            "Fizz\n",
            "34\n",
            "Buzz\n",
            "Fizz\n",
            "37\n",
            "38\n",
            "Fizz\n",
            "Buzz\n",
            "41\n",
            "Fizz\n",
            "43\n",
            "44\n",
            "FizzBuzz\n",
            "46\n",
            "47\n",
            "Fizz\n",
            "49\n",
            "Buzz\n",
            "Fizz\n",
            "52\n",
            "53\n",
            "Fizz\n",
            "Buzz\n",
            "56\n",
            "Fizz\n",
            "58\n",
            "59\n",
            "FizzBuzz\n",
            "61\n",
            "62\n",
            "Fizz\n",
            "64\n",
            "Buzz\n",
            "Fizz\n",
            "67\n",
            "68\n",
            "Fizz\n",
            "Buzz\n",
            "71\n",
            "Fizz\n",
            "73\n",
            "74\n",
            "FizzBuzz\n",
            "76\n",
            "77\n",
            "Fizz\n",
            "79\n",
            "Buzz\n",
            "Fizz\n",
            "82\n",
            "83\n",
            "Fizz\n",
            "Buzz\n",
            "86\n",
            "Fizz\n",
            "88\n",
            "89\n",
            "FizzBuzz\n",
            "91\n",
            "92\n",
            "Fizz\n",
            "94\n",
            "Buzz\n",
            "Fizz\n",
            "97\n",
            "98\n",
            "Fizz\n",
            "Buzz\n"
          ]
        }
      ]
    },
    {
      "cell_type": "markdown",
      "source": [
        "Write a program that prompts the user to enter a positive integer, and then calculates the sum of all integers from 1 to the entered number."
      ],
      "metadata": {
        "id": "kTLG_SFk6hGE"
      }
    },
    {
      "cell_type": "code",
      "source": [
        "num = int(input(\"Enter a positive integer: \"))\n",
        "sum = 0\n",
        "\n",
        "# check if num is positive\n",
        "if num <= 0:\n",
        "    print(\"Invalid input! Please enter a positive integer.\")\n",
        "else:\n",
        "    # calculate the sum of integers from 1 to num\n",
        "    for i in range(1, num+1):\n",
        "        sum += i\n",
        "\n",
        "    print(\"The sum of integers from 1 to {} is: {}\".format(num, sum))"
      ],
      "metadata": {
        "colab": {
          "base_uri": "https://localhost:8080/"
        },
        "id": "Ap2lBO_u6sO4",
        "outputId": "daaa9c81-b02b-436d-96dd-f2d9b0240941"
      },
      "execution_count": 15,
      "outputs": [
        {
          "output_type": "stream",
          "name": "stdout",
          "text": [
            "Enter a positive integer: 4\n",
            "The sum of integers from 1 to 4 is: 10\n"
          ]
        }
      ]
    },
    {
      "cell_type": "markdown",
      "source": [
        "Generates a random number between 1 and 100, and prompts the user to guess the number.\n",
        "\n",
        "If the guess is too high, the program should print \"Too high\", if the guess is too low, the program should print \"Too low\", and if the guess is correct, the program should print \"Congratulations!\" and exit the loop:"
      ],
      "metadata": {
        "id": "Zmbmyj986zo5"
      }
    },
    {
      "cell_type": "code",
      "source": [
        "import random\n",
        "\n",
        "# generate a random number between 1 and 100\n",
        "num = random.randint(1, 100)\n",
        "\n",
        "# loop until the user guesses the number\n",
        "while True:\n",
        "    guess = int(input(\"Guess the number (between 1 and 100): \"))\n",
        "\n",
        "    # check if the guess is correct\n",
        "    if guess == num:\n",
        "        print(\"Congratulations! You guessed the number.\")\n",
        "        break\n",
        "\n",
        "    # check if the guess is too high\n",
        "    elif guess > num:\n",
        "        print(\"Too high! Guess again.\")\n",
        "\n",
        "    # check if the guess is too low\n",
        "    else:\n",
        "        print(\"Too low! Guess again.\")"
      ],
      "metadata": {
        "colab": {
          "base_uri": "https://localhost:8080/"
        },
        "id": "Z4W-qRsg652N",
        "outputId": "ee089cb3-803f-4218-aa87-6d4e1562b18c"
      },
      "execution_count": 17,
      "outputs": [
        {
          "output_type": "stream",
          "name": "stdout",
          "text": [
            "Guess the number (between 1 and 100): 37\n",
            "Too low! Guess again.\n",
            "Guess the number (between 1 and 100): 20\n",
            "Too low! Guess again.\n",
            "Guess the number (between 1 and 100): 50\n",
            "Too high! Guess again.\n",
            "Guess the number (between 1 and 100): 40\n",
            "Too low! Guess again.\n",
            "Guess the number (between 1 and 100): 44\n",
            "Too low! Guess again.\n",
            "Guess the number (between 1 and 100): 47\n",
            "Too low! Guess again.\n",
            "Guess the number (between 1 and 100): 48\n",
            "Too low! Guess again.\n",
            "Guess the number (between 1 and 100): 49\n",
            "Congratulations! You guessed the number.\n"
          ]
        }
      ]
    },
    {
      "cell_type": "markdown",
      "source": [
        "Write a program that generates a multiplication table for all numbers between 1 and 10. (see [.format()](https://www.geeksforgeeks.org/python-string-format-method/) method)"
      ],
      "metadata": {
        "id": "m-YEl-Mu7MWR"
      }
    },
    {
      "cell_type": "code",
      "source": [
        "for i in range(1, 11):\n",
        "    for j in range(1, 11):\n",
        "        print(\"{:4d}\".format(i*j), end=\"\")\n",
        "    print()"
      ],
      "metadata": {
        "colab": {
          "base_uri": "https://localhost:8080/"
        },
        "id": "RkhTLaiO7o76",
        "outputId": "c361bfce-27d5-43e5-855c-265b2b12d9c6"
      },
      "execution_count": null,
      "outputs": [
        {
          "output_type": "stream",
          "name": "stdout",
          "text": [
            "   1   2   3   4   5   6   7   8   9  10\n",
            "   2   4   6   8  10  12  14  16  18  20\n",
            "   3   6   9  12  15  18  21  24  27  30\n",
            "   4   8  12  16  20  24  28  32  36  40\n",
            "   5  10  15  20  25  30  35  40  45  50\n",
            "   6  12  18  24  30  36  42  48  54  60\n",
            "   7  14  21  28  35  42  49  56  63  70\n",
            "   8  16  24  32  40  48  56  64  72  80\n",
            "   9  18  27  36  45  54  63  72  81  90\n",
            "  10  20  30  40  50  60  70  80  90 100\n"
          ]
        }
      ]
    },
    {
      "cell_type": "markdown",
      "source": [
        "#Cuaderno 3- Ejercicios python\n",
        "\n",
        "Lina Robsana Jamioy Tisoy 2024-1\n",
        "\n",
        "loops- Google Colab"
      ],
      "metadata": {
        "id": "e9fT8_MycmTr"
      }
    },
    {
      "cell_type": "markdown",
      "source": [
        "## Exercise 1\n",
        "\n",
        "Write a code that ask the user to enter an integer number every time, and the process will be repeated with more numbers until the user enters a zero.\n",
        "\n",
        "At the end (when the zero is entered), show the amount of numbers entered."
      ],
      "metadata": {
        "id": "6cEQ4HEN4ODA"
      }
    },
    {
      "cell_type": "code",
      "source": [
        "V=[]\n",
        "\n",
        "number = int(input('Enter an integer number. 0 to finish: '))\n",
        "\n",
        "while number != 0:\n",
        "    number = int(input('Enter an integer number. 0 to finish: '))\n",
        "    V.append(number)\n",
        "\n",
        "\n",
        "print('End of the program. los Numeros ingresados fueron', len(V))"
      ],
      "metadata": {
        "colab": {
          "base_uri": "https://localhost:8080/"
        },
        "id": "hNSfysoPNzAh",
        "outputId": "9641e226-43d0-4f30-8378-56f856336747"
      },
      "execution_count": 19,
      "outputs": [
        {
          "output_type": "stream",
          "name": "stdout",
          "text": [
            "Enter an integer number. 0 to finish: 5\n",
            "Enter an integer number. 0 to finish: 4\n",
            "Enter an integer number. 0 to finish: 7\n",
            "Enter an integer number. 0 to finish: 8\n",
            "Enter an integer number. 0 to finish: 9\n",
            "Enter an integer number. 0 to finish: 1\n",
            "Enter an integer number. 0 to finish: 3\n",
            "Enter an integer number. 0 to finish: 2\n",
            "Enter an integer number. 0 to finish: 0\n",
            "End of the program. los Numeros ingresados fueron 8\n"
          ]
        }
      ]
    },
    {
      "cell_type": "markdown",
      "source": [
        "## Exercise 2\n",
        "Use the input() function to ask for the user to enter one integer number. Only if the number is even, it will be accumulated.\n",
        "\n",
        "The program must come to an end if the sum of the numbers surpasses 50 or if the user enters a maximum of 10 numbers."
      ],
      "metadata": {
        "id": "8s-BFauy5BkM"
      }
    },
    {
      "cell_type": "code",
      "source": [
        "suma=0\n",
        "\n",
        "for i in range(10):\n",
        "\n",
        "        number = int(input('Enter an integer number: '))\n",
        "\n",
        "        if number % 2 == 0:\n",
        "            suma += number\n",
        "\n",
        "        if suma > 50:\n",
        "            print(\"Sum has surpassed 50. Exiting.\")\n",
        "            break\n",
        "\n",
        "print(f'Total sum of even numbers: {suma}')\n",
        "print(f'Total numbers entered: {i+1}')"
      ],
      "metadata": {
        "colab": {
          "base_uri": "https://localhost:8080/"
        },
        "id": "hj8NJzCvQoCP",
        "outputId": "1a62c054-015d-4077-9d2a-2e76ad0f5a0e"
      },
      "execution_count": 36,
      "outputs": [
        {
          "output_type": "stream",
          "name": "stdout",
          "text": [
            "Enter an integer number: 10\n",
            "Enter an integer number: 20\n",
            "Enter an integer number: 10\n",
            "Enter an integer number: 50\n",
            "Sum has surpassed 50. Exiting.\n",
            "Total sum of even numbers: 90\n",
            "Total numbers entered: 4\n"
          ]
        }
      ]
    },
    {
      "cell_type": "markdown",
      "source": [
        "Developed by:\n",
        "\n",
        "- Brian Patino Agudelo - bpatinoa@unal.edu.co\n",
        "\n",
        "- Andrés Marino Álvarez Meza - amalvarezme@unal.edu.co\n",
        "\n",
        "- César Germán Castellanos Domínguez - cgcastellanosd@unal.edu.co"
      ],
      "metadata": {
        "id": "wcgoiWX_4nwL"
      }
    },
    {
      "cell_type": "code",
      "source": [],
      "metadata": {
        "id": "glUOgM5V4ed2"
      },
      "execution_count": null,
      "outputs": []
    }
  ]
}
