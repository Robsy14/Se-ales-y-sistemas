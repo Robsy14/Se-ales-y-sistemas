{
  "nbformat": 4,
  "nbformat_minor": 0,
  "metadata": {
    "colab": {
      "provenance": [],
      "include_colab_link": true
    },
    "kernelspec": {
      "name": "python3",
      "display_name": "Python 3"
    },
    "widgets": {
      "application/vnd.jupyter.widget-state+json": {
        "50f4ed271b304f128ff735c95c572573": {
          "model_module": "@jupyter-widgets/controls",
          "model_name": "VBoxModel",
          "model_module_version": "1.5.0",
          "state": {
            "_dom_classes": [
              "widget-interact"
            ],
            "_model_module": "@jupyter-widgets/controls",
            "_model_module_version": "1.5.0",
            "_model_name": "VBoxModel",
            "_view_count": null,
            "_view_module": "@jupyter-widgets/controls",
            "_view_module_version": "1.5.0",
            "_view_name": "VBoxView",
            "box_style": "",
            "children": [
              "IPY_MODEL_6c0c792f4c2a4e35bc8873b417603fc3",
              "IPY_MODEL_759fa19071de4ee59129c91bbae19b25"
            ],
            "layout": "IPY_MODEL_79f38f2416b1464e8ecebeab285e815c"
          }
        },
        "6c0c792f4c2a4e35bc8873b417603fc3": {
          "model_module": "@jupyter-widgets/controls",
          "model_name": "IntSliderModel",
          "model_module_version": "1.5.0",
          "state": {
            "_dom_classes": [],
            "_model_module": "@jupyter-widgets/controls",
            "_model_module_version": "1.5.0",
            "_model_name": "IntSliderModel",
            "_view_count": null,
            "_view_module": "@jupyter-widgets/controls",
            "_view_module_version": "1.5.0",
            "_view_name": "IntSliderView",
            "continuous_update": true,
            "description": "k",
            "description_tooltip": null,
            "disabled": false,
            "layout": "IPY_MODEL_b4903cc09daa4d85aca5709928fee237",
            "max": 14,
            "min": 0,
            "orientation": "horizontal",
            "readout": true,
            "readout_format": "d",
            "step": 1,
            "style": "IPY_MODEL_d8a744556d9845499207e758598f2622",
            "value": 4
          }
        },
        "759fa19071de4ee59129c91bbae19b25": {
          "model_module": "@jupyter-widgets/output",
          "model_name": "OutputModel",
          "model_module_version": "1.0.0",
          "state": {
            "_dom_classes": [],
            "_model_module": "@jupyter-widgets/output",
            "_model_module_version": "1.0.0",
            "_model_name": "OutputModel",
            "_view_count": null,
            "_view_module": "@jupyter-widgets/output",
            "_view_module_version": "1.0.0",
            "_view_name": "OutputView",
            "layout": "IPY_MODEL_911173d9201a43e0953e50397b666974",
            "msg_id": "",
            "outputs": [
              {
                "output_type": "display_data",
                "data": {
                  "text/plain": "<Figure size 640x480 with 1 Axes>",
                  "image/png": "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\n"
                },
                "metadata": {}
              }
            ]
          }
        },
        "79f38f2416b1464e8ecebeab285e815c": {
          "model_module": "@jupyter-widgets/base",
          "model_name": "LayoutModel",
          "model_module_version": "1.2.0",
          "state": {
            "_model_module": "@jupyter-widgets/base",
            "_model_module_version": "1.2.0",
            "_model_name": "LayoutModel",
            "_view_count": null,
            "_view_module": "@jupyter-widgets/base",
            "_view_module_version": "1.2.0",
            "_view_name": "LayoutView",
            "align_content": null,
            "align_items": null,
            "align_self": null,
            "border": null,
            "bottom": null,
            "display": null,
            "flex": null,
            "flex_flow": null,
            "grid_area": null,
            "grid_auto_columns": null,
            "grid_auto_flow": null,
            "grid_auto_rows": null,
            "grid_column": null,
            "grid_gap": null,
            "grid_row": null,
            "grid_template_areas": null,
            "grid_template_columns": null,
            "grid_template_rows": null,
            "height": null,
            "justify_content": null,
            "justify_items": null,
            "left": null,
            "margin": null,
            "max_height": null,
            "max_width": null,
            "min_height": null,
            "min_width": null,
            "object_fit": null,
            "object_position": null,
            "order": null,
            "overflow": null,
            "overflow_x": null,
            "overflow_y": null,
            "padding": null,
            "right": null,
            "top": null,
            "visibility": null,
            "width": null
          }
        },
        "b4903cc09daa4d85aca5709928fee237": {
          "model_module": "@jupyter-widgets/base",
          "model_name": "LayoutModel",
          "model_module_version": "1.2.0",
          "state": {
            "_model_module": "@jupyter-widgets/base",
            "_model_module_version": "1.2.0",
            "_model_name": "LayoutModel",
            "_view_count": null,
            "_view_module": "@jupyter-widgets/base",
            "_view_module_version": "1.2.0",
            "_view_name": "LayoutView",
            "align_content": null,
            "align_items": null,
            "align_self": null,
            "border": null,
            "bottom": null,
            "display": null,
            "flex": null,
            "flex_flow": null,
            "grid_area": null,
            "grid_auto_columns": null,
            "grid_auto_flow": null,
            "grid_auto_rows": null,
            "grid_column": null,
            "grid_gap": null,
            "grid_row": null,
            "grid_template_areas": null,
            "grid_template_columns": null,
            "grid_template_rows": null,
            "height": null,
            "justify_content": null,
            "justify_items": null,
            "left": null,
            "margin": null,
            "max_height": null,
            "max_width": null,
            "min_height": null,
            "min_width": null,
            "object_fit": null,
            "object_position": null,
            "order": null,
            "overflow": null,
            "overflow_x": null,
            "overflow_y": null,
            "padding": null,
            "right": null,
            "top": null,
            "visibility": null,
            "width": null
          }
        },
        "d8a744556d9845499207e758598f2622": {
          "model_module": "@jupyter-widgets/controls",
          "model_name": "SliderStyleModel",
          "model_module_version": "1.5.0",
          "state": {
            "_model_module": "@jupyter-widgets/controls",
            "_model_module_version": "1.5.0",
            "_model_name": "SliderStyleModel",
            "_view_count": null,
            "_view_module": "@jupyter-widgets/base",
            "_view_module_version": "1.2.0",
            "_view_name": "StyleView",
            "description_width": "",
            "handle_color": null
          }
        },
        "911173d9201a43e0953e50397b666974": {
          "model_module": "@jupyter-widgets/base",
          "model_name": "LayoutModel",
          "model_module_version": "1.2.0",
          "state": {
            "_model_module": "@jupyter-widgets/base",
            "_model_module_version": "1.2.0",
            "_model_name": "LayoutModel",
            "_view_count": null,
            "_view_module": "@jupyter-widgets/base",
            "_view_module_version": "1.2.0",
            "_view_name": "LayoutView",
            "align_content": null,
            "align_items": null,
            "align_self": null,
            "border": null,
            "bottom": null,
            "display": null,
            "flex": null,
            "flex_flow": null,
            "grid_area": null,
            "grid_auto_columns": null,
            "grid_auto_flow": null,
            "grid_auto_rows": null,
            "grid_column": null,
            "grid_gap": null,
            "grid_row": null,
            "grid_template_areas": null,
            "grid_template_columns": null,
            "grid_template_rows": null,
            "height": null,
            "justify_content": null,
            "justify_items": null,
            "left": null,
            "margin": null,
            "max_height": null,
            "max_width": null,
            "min_height": null,
            "min_width": null,
            "object_fit": null,
            "object_position": null,
            "order": null,
            "overflow": null,
            "overflow_x": null,
            "overflow_y": null,
            "padding": null,
            "right": null,
            "top": null,
            "visibility": null,
            "width": null
          }
        }
      }
    }
  },
  "cells": [
    {
      "cell_type": "markdown",
      "metadata": {
        "id": "view-in-github",
        "colab_type": "text"
      },
      "source": [
        "<a href=\"https://colab.research.google.com/github/Robsy14/Se-ales-y-sistemas/blob/main/4_Convoluci%C3%B3n_Discreta.ipynb\" target=\"_parent\"><img src=\"https://colab.research.google.com/assets/colab-badge.svg\" alt=\"Open In Colab\"/></a>"
      ]
    },
    {
      "cell_type": "markdown",
      "source": [
        "## Lina Robsana Jamioy Tisoy"
      ],
      "metadata": {
        "id": "rs8pM1fDtJu2"
      }
    },
    {
      "cell_type": "markdown",
      "metadata": {
        "id": "ltZFXHh6H_8Z"
      },
      "source": [
        "# Convolución discreta y SLITs\n",
        "\n",
        "- A continuación se ilustra el proceso de convolución y respuesta al impulso para resolver sistemas lineales e invariantes en el tiempo (SLIT) discreto.\n",
        "\n",
        "- Dada la respuesta al impulso en tiempo discreto $h[n]\\in\\mathbb{R},\\mathbb{C}$ de un SLIT $\\mathsf{H}\\{\\cdot\\},$ la respuesta del sistema $y[n]\\in\\mathbb{R},\\mathbb{C}$ ante la entrada discreta $x[n]\\in\\mathbb{R},\\mathbb{C}$, se puede calcular mediante el operador convolución:\n",
        "\n",
        "$$y[n]=x[n]*h[n] = \\sum^\\infty_{k=-\\infty}x[k]h[n-k].$$\n",
        "\n",
        "- En general, se cuenta con vectores de tamaño finito, y con sistemas causales, por ende, si $x[n]$ cuenta con $N$ elementos y $h[n]$ con $L$ elementos, la salida $y[n]$ tendra, en el mejor de los casos, $M = N + L - 1$ elementos distintos de 0 (ver [interpretación gráfica convolución](https://en.wikipedia.org/wiki/Convolution)).\n",
        "\n",
        "\n",
        "**Ejemplo**\n",
        "\n",
        "- Se presenta la simulación del cálculo de la salida de un SLIT en tiempo discreto utilizando la respuesta al impulso y la convolución discreta implementando punto a punto el proceso de suma y comparando los resultados con la librería [convolve](https://numpy.org/doc/stable/reference/generated/numpy.convolve.html) de numpy."
      ]
    },
    {
      "cell_type": "code",
      "metadata": {
        "id": "XVcI_Xk2_U2Y"
      },
      "source": [
        "%matplotlib inline\n",
        "from ipywidgets import interact #crear graficos interactivos\n",
        "import numpy as np\n",
        "import matplotlib.pyplot as plt\n",
        "from scipy import signal #crear señales prototipo en tiempo discreto\n"
      ],
      "execution_count": 1,
      "outputs": []
    },
    {
      "cell_type": "code",
      "metadata": {
        "id": "ckohmENyAH1j",
        "outputId": "7b29b940-2cfe-4d87-aff7-ad19adf1568d",
        "colab": {
          "base_uri": "https://localhost:8080/"
        }
      },
      "source": [
        "#crear señales\n",
        "#h = np.array([1,-2,0,1,-2]).reshape(-1,1)#np.r_[np.zeros((5,1)),np.ones((5,1)),np.zeros((5,1))] # se genera un pulso rectangular\n",
        "hu = np.array([-1,6,-10,3,1,-10,2,5])\n",
        "h = np.diff(hu).reshape(-1,1)\n",
        "x = np.array([-15,5,-3,0,5,7,-1]).reshape(-1,1)#signal.triang(12).reshape(-1,1) # se genera una señal triangular y se trabaja con arreglos tipo columna\n",
        "#funcion convolucion\n",
        "def convgraf(h,x): #función general para pintar proceso de convolución de forma interactiva\n",
        "   lx = len(x)\n",
        "   lh = len(h)\n",
        "   M = 2*lx+lh # se genera un vector de tamaño completo para visualizar todo el proceso paso a paso\n",
        "   xm = np.zeros((M,M))\n",
        "   hm = np.r_[np.zeros((lx,1)),h,np.zeros((lx,1))]\n",
        "   ym = np.zeros((M,M))\n",
        "   for i in range(M-lx+1):\n",
        "     #print(i)\n",
        "     xm[i:i+lx,i] = np.flip(x).reshape(-1)#filp realizar el proceso de reflejo sobre arreglos discretos\n",
        "     ym[i,i] = xm[:,i].T.dot(hm) #multiplicacion entre vectores -> producto punto\n",
        "   return xm, ym, hm\n",
        "\n",
        "def plot_conv(k,xm,ym,hm): #dibujar arreglos\n",
        "     plt.stem(xm[:,k],markerfmt='+',label='$x[k]$')\n",
        "     plt.stem(hm,linefmt='g',markerfmt='.',label='$h[n-k]$')\n",
        "     plt.stem(ym[:k,:].sum(axis=0),markerfmt='s',linefmt='r',label='$y[n]=\\sum^{\\infty}_{k=-\\infty}x[k]h[n-k]$')\n",
        "     plt.legend()\n",
        "     plt.show()\n",
        "     return\n",
        "\n",
        "xm, ym, hm = convgraf(h,x)"
      ],
      "execution_count": 2,
      "outputs": [
        {
          "output_type": "stream",
          "name": "stderr",
          "text": [
            "<ipython-input-2-4c04b5c4f736>:17: DeprecationWarning: Conversion of an array with ndim > 0 to a scalar is deprecated, and will error in future. Ensure you extract a single element from your array before performing this operation. (Deprecated NumPy 1.25.)\n",
            "  ym[i,i] = xm[:,i].T.dot(hm) #multiplicacion entre vectores -> producto punto\n"
          ]
        }
      ]
    },
    {
      "cell_type": "code",
      "metadata": {
        "id": "-EPYt_Z2_M5e",
        "colab": {
          "base_uri": "https://localhost:8080/",
          "height": 465,
          "referenced_widgets": [
            "50f4ed271b304f128ff735c95c572573",
            "6c0c792f4c2a4e35bc8873b417603fc3",
            "759fa19071de4ee59129c91bbae19b25",
            "79f38f2416b1464e8ecebeab285e815c",
            "b4903cc09daa4d85aca5709928fee237",
            "d8a744556d9845499207e758598f2622",
            "911173d9201a43e0953e50397b666974"
          ]
        },
        "outputId": "122f6899-f21d-4010-e9b4-756df6b04c12"
      },
      "source": [
        "#@interact(m=range(xm.shape[0]-len(x)+1)) #define panel tipo selección en el gráfico interactivo\n",
        "@interact(k=(0, xm.shape[0]-len(x), 1))\n",
        "def show_frame(k=0):\n",
        "    plot_conv(k,xm,ym,hm)\n",
        "plt.show()"
      ],
      "execution_count": 3,
      "outputs": [
        {
          "output_type": "display_data",
          "data": {
            "text/plain": [
              "interactive(children=(IntSlider(value=0, description='k', max=14), Output()), _dom_classes=('widget-interact',…"
            ],
            "application/vnd.jupyter.widget-view+json": {
              "version_major": 2,
              "version_minor": 0,
              "model_id": "50f4ed271b304f128ff735c95c572573"
            }
          },
          "metadata": {}
        }
      ]
    },
    {
      "cell_type": "markdown",
      "metadata": {
        "id": "gZvIFK0Qmrbu"
      },
      "source": [
        "**Nota**: Para resolver SLIT en tiempo discreto respecto a su respuesta escalón, puede utilizar el operador de derivada en tiempo discreto de numpy [diferencia discreta](https://numpy.org/doc/stable/reference/generated/numpy.diff.html) para estimar la respuesta al impulso $h[n]$ desde la respueta escalón $\\mathsf{H}\\{\\epsilon[n]\\}.$\n",
        "\n",
        "- El paquete numpy tiene implementado la convolución discreta (Ver [numpy.convolve](https://numpy.org/doc/stable/reference/generated/numpy.convolve.html))."
      ]
    },
    {
      "cell_type": "code",
      "metadata": {
        "id": "H1Dis0ruH4JV",
        "outputId": "9b7f02f8-d9e7-43c8-97e6-00894c4e14d0",
        "colab": {
          "base_uri": "https://localhost:8080/"
        }
      },
      "source": [
        "y_ = np.convolve(x.reshape(-1),h.reshape(-1))\n",
        "y_"
      ],
      "execution_count": 4,
      "outputs": [
        {
          "output_type": "execute_result",
          "data": {
            "text/plain": [
              "array([-105,  275, -296,  143,  151, -260,   -6,   76,  -91,  -15,  110,\n",
              "          9,   -3])"
            ]
          },
          "metadata": {},
          "execution_count": 4
        }
      ]
    },
    {
      "cell_type": "code",
      "source": [],
      "metadata": {
        "id": "gs_n-vzvHLN-"
      },
      "execution_count": 4,
      "outputs": []
    }
  ]
}
