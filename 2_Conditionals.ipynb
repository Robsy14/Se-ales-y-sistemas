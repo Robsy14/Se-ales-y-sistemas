{
  "nbformat": 4,
  "nbformat_minor": 0,
  "metadata": {
    "colab": {
      "provenance": [],
      "include_colab_link": true
    },
    "kernelspec": {
      "name": "python3",
      "display_name": "Python 3"
    },
    "language_info": {
      "name": "python"
    }
  },
  "cells": [
    {
      "cell_type": "markdown",
      "metadata": {
        "id": "view-in-github",
        "colab_type": "text"
      },
      "source": [
        "<a href=\"https://colab.research.google.com/github/Robsy14/Se-ales-y-sistemas/blob/main/Copia_de_2_Conditionals.ipynb\" target=\"_parent\"><img src=\"https://colab.research.google.com/assets/colab-badge.svg\" alt=\"Open In Colab\"/></a>"
      ]
    },
    {
      "cell_type": "markdown",
      "source": [
        "# Conditionals"
      ],
      "metadata": {
        "id": "VTg9sEC1C3SO"
      }
    },
    {
      "cell_type": "markdown",
      "source": [
        "To perform conditionals in Python, we need to consider that the indentation defines each section of code to be executed.\n",
        "\n",
        "We don't use curly braces or any separator here; instead, we control it with indentation using \"Tab\" characters.\n",
        "\n",
        "Additionally, both the \"if\" and \"else\" statements must end with a colon (not including them will result in a syntax error)."
      ],
      "metadata": {
        "id": "Rk_VXygMC7mm"
      }
    },
    {
      "cell_type": "code",
      "execution_count": null,
      "metadata": {
        "colab": {
          "base_uri": "https://localhost:8080/"
        },
        "id": "W1DdfxlTCEjM",
        "outputId": "e6da8f54-8d5f-40eb-900b-0405f7a054d0"
      },
      "outputs": [
        {
          "output_type": "stream",
          "name": "stdout",
          "text": [
            "The condition is true.\n",
            "\n"
          ]
        }
      ],
      "source": [
        "a = True\n",
        "\n",
        "if a:\n",
        "  print(\"The condition is true.\\n\")#tab is included here\n",
        "else:\n",
        "  print(\"The condition is false.\\n\")#tab is included here"
      ]
    },
    {
      "cell_type": "code",
      "source": [
        "\n",
        "a = False\n",
        "\n",
        "if a:\n",
        "  print(\"The condition is true.\\n\")\n",
        "else:\n",
        "  print(\"The condition is false.\\n\")"
      ],
      "metadata": {
        "colab": {
          "base_uri": "https://localhost:8080/"
        },
        "id": "MQGsGj6xDu4n",
        "outputId": "7323023a-f0df-46ce-fd30-4942f86f9931"
      },
      "execution_count": null,
      "outputs": [
        {
          "output_type": "stream",
          "name": "stdout",
          "text": [
            "The condition is false.\n",
            "\n"
          ]
        }
      ]
    },
    {
      "cell_type": "markdown",
      "source": [
        "Recalling that boolean variables have their equivalent in integers, we could also perform the conditional in the following way:"
      ],
      "metadata": {
        "id": "frC0vy0CDxxC"
      }
    },
    {
      "cell_type": "code",
      "source": [
        "a = 5\n",
        "\n",
        "\n",
        "if a: #a as an int variable\n",
        "  print(\"The condition is true.\\n\")\n",
        "else:\n",
        "  print(\"The condition is false.\\n\")"
      ],
      "metadata": {
        "colab": {
          "base_uri": "https://localhost:8080/"
        },
        "id": "xyRIhIhvD6Pa",
        "outputId": "b9619513-8b74-41b0-f983-14aac1fbbe10"
      },
      "execution_count": null,
      "outputs": [
        {
          "output_type": "stream",
          "name": "stdout",
          "text": [
            "The condition is true.\n",
            "\n"
          ]
        }
      ]
    },
    {
      "cell_type": "code",
      "source": [
        "a = 0\n",
        "\n",
        "if a:\n",
        "  print(\"The condition is true.\\n\")\n",
        "else:\n",
        "  print(\"The condition is false.\\n\")"
      ],
      "metadata": {
        "colab": {
          "base_uri": "https://localhost:8080/"
        },
        "id": "DbzDH0qwD8QQ",
        "outputId": "a75b4c52-a06d-4aad-8fc3-49eac57d8f83"
      },
      "execution_count": null,
      "outputs": [
        {
          "output_type": "stream",
          "name": "stdout",
          "text": [
            "The condition is false.\n",
            "\n"
          ]
        }
      ]
    },
    {
      "cell_type": "markdown",
      "source": [
        "\n",
        "Many times it is necessary to use nested if statements. For this, the \"elif\" statement is very useful."
      ],
      "metadata": {
        "id": "fNWEc7KmEDj4"
      }
    },
    {
      "cell_type": "code",
      "source": [
        "\n",
        "a = True\n",
        "b = True\n",
        "\n",
        "if a:\n",
        "  print(\"Condition 1 is true.\\n\")\n",
        "elif b:\n",
        "  print(\"Condition 2 is true.\\n\")\n"
      ],
      "metadata": {
        "colab": {
          "base_uri": "https://localhost:8080/"
        },
        "id": "OP3rdF2nD_eX",
        "outputId": "d14910d0-6aec-4704-cca1-c48826d8f2ae"
      },
      "execution_count": null,
      "outputs": [
        {
          "output_type": "stream",
          "name": "stdout",
          "text": [
            "Condition 1 is true.\n",
            "\n"
          ]
        }
      ]
    },
    {
      "cell_type": "code",
      "source": [
        "a = False\n",
        "b = True\n",
        "\n",
        "if a:\n",
        "  print(\"Condition 1 is true.\\n\")\n",
        "elif b:\n",
        "  print(\"Condition 2 is true.\\n\")\n"
      ],
      "metadata": {
        "colab": {
          "base_uri": "https://localhost:8080/"
        },
        "id": "MAPP8N-GEuiO",
        "outputId": "f8369ab3-a699-47f6-a395-e16db5daaf61"
      },
      "execution_count": null,
      "outputs": [
        {
          "output_type": "stream",
          "name": "stdout",
          "text": [
            "Condition 2 is true.\n",
            "\n"
          ]
        }
      ]
    },
    {
      "cell_type": "markdown",
      "source": [
        "In this case, we first check if condition a is true, but if not, we don't directly print the second message. Instead, we now check if condition b is true or not (the second condition is only evaluated if the first one was not true).\n",
        "\n",
        "We can add an else statement at the end, which would be executed if none of the previous conditions are true (the final option)."
      ],
      "metadata": {
        "id": "MI1yZs1eExGO"
      }
    },
    {
      "cell_type": "code",
      "source": [
        "\n",
        "a = False\n",
        "b = True\n",
        "\n",
        "if a:\n",
        "  print(\"Condition 1 is true.\\n\")\n",
        "elif b:\n",
        "  print(\"Condition 2 is true.\\n\")\n",
        "else:\n",
        "  print(\"Both conditions are false.\\n\")"
      ],
      "metadata": {
        "colab": {
          "base_uri": "https://localhost:8080/"
        },
        "id": "FghUVGjVFRZM",
        "outputId": "175c3714-261f-4d15-e6f2-9a2ced80c422"
      },
      "execution_count": null,
      "outputs": [
        {
          "output_type": "stream",
          "name": "stdout",
          "text": [
            "Condition 2 is true.\n",
            "\n"
          ]
        }
      ]
    },
    {
      "cell_type": "code",
      "source": [
        "\n",
        "a = False\n",
        "b = False\n",
        "\n",
        "if a:\n",
        "  print(\"Condition 1 is true.\\n\")\n",
        "elif b:\n",
        "  print(\"Condition 2 is true.\\n\")\n",
        "else:\n",
        "  print(\"Both conditions are false.\\n\")"
      ],
      "metadata": {
        "colab": {
          "base_uri": "https://localhost:8080/"
        },
        "id": "A5QLFL4VFZsQ",
        "outputId": "7fe73a60-6f3b-43b6-b232-300f1e1bd837"
      },
      "execution_count": null,
      "outputs": [
        {
          "output_type": "stream",
          "name": "stdout",
          "text": [
            "Both conditions are false.\n",
            "\n"
          ]
        }
      ]
    },
    {
      "cell_type": "markdown",
      "source": [
        "Similarly, we can directly nest the if statements if we only want the subsequent condition to be evaluated if the previous one is true."
      ],
      "metadata": {
        "id": "P9HDhYXtKX7K"
      }
    },
    {
      "cell_type": "code",
      "source": [
        "a = True\n",
        "b = True\n",
        "\n",
        "if a:\n",
        "  if b:\n",
        "    print(\"a and b are true.\\n\")#double tab is required here!\n",
        "  else:\n",
        "    print(\"a is true but b is false.\\n\")\n",
        "else:\n",
        "  print(\"a is not true.\\n\")"
      ],
      "metadata": {
        "colab": {
          "base_uri": "https://localhost:8080/"
        },
        "id": "AuBe0qhdKXU7",
        "outputId": "6dec71cd-7fc8-4b08-8a92-23b04b0ae620"
      },
      "execution_count": null,
      "outputs": [
        {
          "output_type": "stream",
          "name": "stdout",
          "text": [
            "a and b are true.\n",
            "\n"
          ]
        }
      ]
    },
    {
      "cell_type": "code",
      "source": [
        "a = False\n",
        "b = False\n",
        "\n",
        "if a:\n",
        "  if b:\n",
        "    print(\"a and b are true.\\n\")\n",
        "  else:\n",
        "    print(\"a is true but b is false.\\n\")\n",
        "else:\n",
        "  print(\"a is not true.\\n\")"
      ],
      "metadata": {
        "colab": {
          "base_uri": "https://localhost:8080/"
        },
        "id": "oxH42MDxLIvk",
        "outputId": "d1229715-dde7-4d78-8fd9-c497ed149e7c"
      },
      "execution_count": null,
      "outputs": [
        {
          "output_type": "stream",
          "name": "stdout",
          "text": [
            "a is not true.\n",
            "\n"
          ]
        }
      ]
    },
    {
      "cell_type": "code",
      "source": [
        "a = False\n",
        "b = False\n",
        "\n",
        "if a:\n",
        "  if b:\n",
        "    print(\"a and b are true.\\n\")\n",
        "  else:\n",
        "    print(\"a is true but b is false.\\n\")\n",
        "else:\n",
        "  print(\"a is not true.\\n\")"
      ],
      "metadata": {
        "colab": {
          "base_uri": "https://localhost:8080/"
        },
        "id": "CFjjpC7ILL7D",
        "outputId": "19453a40-67e3-434a-f20d-ecdea62ac288"
      },
      "execution_count": null,
      "outputs": [
        {
          "output_type": "stream",
          "name": "stdout",
          "text": [
            "a is not true.\n",
            "\n"
          ]
        }
      ]
    },
    {
      "cell_type": "code",
      "source": [
        "\n",
        "a = False\n",
        "b = True\n",
        "\n",
        "if a:\n",
        "  if b:\n",
        "    print(\"a and b are true.\\n\")\n",
        "  else:\n",
        "    print(\"a is true but b is false.\\n\")\n",
        "else:\n",
        "  print(\"a is not true.\\n\")"
      ],
      "metadata": {
        "colab": {
          "base_uri": "https://localhost:8080/"
        },
        "id": "2_WzD4IILR6D",
        "outputId": "185e3e72-0885-4840-ea6d-c120d19b5b4a"
      },
      "execution_count": null,
      "outputs": [
        {
          "output_type": "stream",
          "name": "stdout",
          "text": [
            "a is not true.\n",
            "\n"
          ]
        }
      ]
    },
    {
      "cell_type": "markdown",
      "source": [
        "In other languages, the exclamation mark (!) can be used to evaluate the logical negation of a variable.\n",
        "\n",
        "In Python, we can use the keyword \"not\" before the variable to achieve the same effect."
      ],
      "metadata": {
        "id": "iVTrietnGmkB"
      }
    },
    {
      "cell_type": "code",
      "source": [
        "not True"
      ],
      "metadata": {
        "colab": {
          "base_uri": "https://localhost:8080/"
        },
        "id": "d9EjgT7nG76A",
        "outputId": "e45bbd61-74e5-4af9-a918-72915a0b90a5"
      },
      "execution_count": null,
      "outputs": [
        {
          "output_type": "execute_result",
          "data": {
            "text/plain": [
              "False"
            ]
          },
          "metadata": {},
          "execution_count": 6
        }
      ]
    },
    {
      "cell_type": "code",
      "source": [
        "not False"
      ],
      "metadata": {
        "colab": {
          "base_uri": "https://localhost:8080/"
        },
        "id": "SuMYbT_JG9pK",
        "outputId": "e7074052-3775-4e22-aa32-06d969b11c5c"
      },
      "execution_count": null,
      "outputs": [
        {
          "output_type": "execute_result",
          "data": {
            "text/plain": [
              "True"
            ]
          },
          "metadata": {},
          "execution_count": 7
        }
      ]
    },
    {
      "cell_type": "code",
      "source": [
        "not 8"
      ],
      "metadata": {
        "colab": {
          "base_uri": "https://localhost:8080/"
        },
        "id": "dHpVP55rG_Rl",
        "outputId": "c7748664-fb0d-428d-cb75-cb9acf1abb8c"
      },
      "execution_count": null,
      "outputs": [
        {
          "output_type": "execute_result",
          "data": {
            "text/plain": [
              "False"
            ]
          },
          "metadata": {},
          "execution_count": 8
        }
      ]
    },
    {
      "cell_type": "code",
      "source": [
        "not 0"
      ],
      "metadata": {
        "colab": {
          "base_uri": "https://localhost:8080/"
        },
        "id": "x3dpCJ2jHBpH",
        "outputId": "73f5f473-fe85-4cec-d3cb-ea2b01cc60b5"
      },
      "execution_count": null,
      "outputs": [
        {
          "output_type": "execute_result",
          "data": {
            "text/plain": [
              "True"
            ]
          },
          "metadata": {},
          "execution_count": 19
        }
      ]
    },
    {
      "cell_type": "code",
      "source": [
        "a = True\n",
        "b = True\n",
        "\n",
        "if not a:\n",
        "  print(\"Condition 1 is true.\\n\")\n",
        "elif b:\n",
        "  print(\"Condition 2 is true.\\n\")\n",
        "else:\n",
        "  print(\"Both conditions are false.\\n\")"
      ],
      "metadata": {
        "colab": {
          "base_uri": "https://localhost:8080/"
        },
        "id": "26Fu_3KhG0bC",
        "outputId": "b5b1f920-e605-4c77-ca8c-45969572a106"
      },
      "execution_count": null,
      "outputs": [
        {
          "output_type": "stream",
          "name": "stdout",
          "text": [
            "Condition 2 is true.\n",
            "\n"
          ]
        }
      ]
    },
    {
      "cell_type": "markdown",
      "source": [
        "On the other hand, we don't always need to evaluate conditions separately but create logical expressions with them. For this purpose, we have the following operators:\n",
        "\n",
        ". Logical operators: \"or\", \"and\"\n",
        "\n",
        ". Comparison operators: <, >, <=, >=, ==, !="
      ],
      "metadata": {
        "id": "jMy5rePdFjNg"
      }
    },
    {
      "cell_type": "code",
      "source": [],
      "metadata": {
        "id": "5zN4Txrj42Sa"
      },
      "execution_count": null,
      "outputs": []
    },
    {
      "cell_type": "code",
      "source": [
        "a = False\n",
        "b = False\n",
        "\n",
        "if a or b:\n",
        "  print(\"At least one condition is true.\\n\")\n",
        "else:\n",
        "  print(\"It's not any value.\")"
      ],
      "metadata": {
        "colab": {
          "base_uri": "https://localhost:8080/"
        },
        "id": "wnuvPyZBHVgC",
        "outputId": "6123241b-e9bb-4150-f457-1a94950b58d8"
      },
      "execution_count": null,
      "outputs": [
        {
          "output_type": "stream",
          "name": "stdout",
          "text": [
            "It's not any value.\n"
          ]
        }
      ]
    },
    {
      "cell_type": "code",
      "source": [
        "a = 3\n",
        "b = 4\n",
        "\n",
        "if a != b:\n",
        "  print(\"The numbers are different.\\n\")"
      ],
      "metadata": {
        "colab": {
          "base_uri": "https://localhost:8080/"
        },
        "id": "xPraa9wBHfR8",
        "outputId": "9a042a8a-e9f7-499a-c968-65f89f684ec1"
      },
      "execution_count": null,
      "outputs": [
        {
          "output_type": "stream",
          "name": "stdout",
          "text": [
            "The numbers are different.\n",
            "\n"
          ]
        }
      ]
    },
    {
      "cell_type": "code",
      "source": [
        "a = 4\n",
        "b = 4\n",
        "\n",
        "if a == b:\n",
        "  print(\"The numbers are equal.\\n\")"
      ],
      "metadata": {
        "colab": {
          "base_uri": "https://localhost:8080/"
        },
        "id": "agG1ggz0IBuz",
        "outputId": "28463dd0-ce3e-4f27-c824-017ec05988be"
      },
      "execution_count": null,
      "outputs": [
        {
          "output_type": "stream",
          "name": "stdout",
          "text": [
            "The numbers are equal.\n",
            "\n"
          ]
        }
      ]
    },
    {
      "cell_type": "code",
      "source": [
        "a = 1\n",
        "b = 2\n",
        "c = 3\n",
        "\n",
        "if a < b < c:\n",
        "  print(\"The order is ascending.\\n\")"
      ],
      "metadata": {
        "id": "2WlutQYmIIe3",
        "colab": {
          "base_uri": "https://localhost:8080/"
        },
        "outputId": "50cddef0-57ad-462d-ff66-902ba9567c7b"
      },
      "execution_count": null,
      "outputs": [
        {
          "output_type": "stream",
          "name": "stdout",
          "text": [
            "The order is ascending.\n",
            "\n"
          ]
        }
      ]
    },
    {
      "cell_type": "code",
      "source": [
        "a = 3\n",
        "b = 2\n",
        "c = 3\n",
        "\n",
        "if a < b < c:\n",
        "  print(\"The order is ascending.\\n\")\n",
        "else:\n",
        "  print(a + b + c)\n"
      ],
      "metadata": {
        "colab": {
          "base_uri": "https://localhost:8080/"
        },
        "id": "b3sQXrU0IThJ",
        "outputId": "2c97f0d8-d3db-4d3a-bb77-78e2a63cb8e7"
      },
      "execution_count": null,
      "outputs": [
        {
          "output_type": "stream",
          "name": "stdout",
          "text": [
            "8\n"
          ]
        }
      ]
    },
    {
      "cell_type": "markdown",
      "source": [
        "When multiple chained comparisons like the previous ones are performed, Python always evaluates them from left to right in pairs."
      ],
      "metadata": {
        "id": "AC2xrm2AIcic"
      }
    },
    {
      "cell_type": "markdown",
      "source": [
        "\n",
        "In more advanced applications, using lists, tuples, dictionaries, or classes, there are other ways to express conditions that are useful for tackling more complex problems.\n",
        "\n",
        "One quick example, not so complex, is the use of the keyword \"in,\" which is used for strings or arrays of numbers."
      ],
      "metadata": {
        "id": "mAsFtIP5IltC"
      }
    },
    {
      "cell_type": "code",
      "source": [
        "a = [1, 2, 3]\n",
        "b = 2\n",
        "\n",
        "if b in a:\n",
        "  print(\"a contains the value of b.\\n\")\n",
        "else:\n",
        "  print(\"a does not contain the value of b.\\n\")"
      ],
      "metadata": {
        "colab": {
          "base_uri": "https://localhost:8080/"
        },
        "id": "yrBhgY0mI9Ci",
        "outputId": "b29b5810-3203-45f9-d0e9-6e130c88ee18"
      },
      "execution_count": null,
      "outputs": [
        {
          "output_type": "stream",
          "name": "stdout",
          "text": [
            "a contains the value of b.\n",
            "\n"
          ]
        }
      ]
    },
    {
      "cell_type": "code",
      "source": [
        "a = [1, 2, 3]\n",
        "b = 4\n",
        "\n",
        "if b in a:\n",
        "  print(\"a contains the value of b.\\n\")\n",
        "else:\n",
        "  print(\"a does not contain the value of b.\\n\")"
      ],
      "metadata": {
        "colab": {
          "base_uri": "https://localhost:8080/"
        },
        "id": "GlFDLbP-JzM0",
        "outputId": "85bd4d57-9fcf-4579-b659-2783a64ab292"
      },
      "execution_count": null,
      "outputs": [
        {
          "output_type": "stream",
          "name": "stdout",
          "text": [
            "a does not contain the value of b.\n",
            "\n"
          ]
        }
      ]
    },
    {
      "cell_type": "code",
      "source": [
        "if(\"Hi\" in \"this is a good example\"):\n",
        "  print(\"Word found.\\n\")\n",
        "else:\n",
        "  print(\"Word not found\")"
      ],
      "metadata": {
        "colab": {
          "base_uri": "https://localhost:8080/"
        },
        "id": "mvgyY8s2J2jN",
        "outputId": "f33de744-f8c0-4e5d-f1ac-acaa64e3a536"
      },
      "execution_count": null,
      "outputs": [
        {
          "output_type": "stream",
          "name": "stdout",
          "text": [
            "Word not found\n"
          ]
        }
      ]
    },
    {
      "cell_type": "markdown",
      "source": [
        "\n",
        "## Exercises:\n",
        "\n",
        "1. In order to pay a certain tax, you must be over 16 years old and have a monthly income equal to or greater than €1000. Write a program that asks the user for their age and monthly income, and displays whether the user has to pay the tax or not.\n",
        "\n",
        "\n",
        "2. The Bella Napoli pizzeria offers vegetarian and non-vegetarian pizzas to its customers. The ingredients for each type of pizza are as follows:\n",
        "\n",
        "Vegetarian ingredients: Bell peppers and tofu.\n",
        "\n",
        "Non-vegetarian ingredients: Pepperoni, Ham, and Salmon.\n",
        "\n",
        "Write a program that asks the user if they want a vegetarian pizza or not, and based on their response, displays a menu with the available ingredients for them to choose from. Only one additional ingredient can be chosen besides the mozzarella and tomato, which are included in all pizzas. Finally, the program should display whether the chosen pizza is vegetarian or not, along with all the ingredients it contains."
      ],
      "metadata": {
        "id": "fO1RHJGAiIp2"
      }
    },
    {
      "cell_type": "markdown",
      "source": [
        "Developed by:\n",
        "\n",
        "- Brian Patino Agudelo - bpatinoa@unal.edu.co\n",
        "\n",
        "- Andrés Marino Álvarez Meza - amalvarezme@unal.edu.co\n",
        "\n",
        "- César Germán Castellanos Domínguez - cgcastellanosd@unal.edu.co"
      ],
      "metadata": {
        "id": "QQg2r04O174w"
      }
    },
    {
      "cell_type": "markdown",
      "source": [
        "#Cuaderno 2- Ejercicios python\n",
        "\n",
        "##Lina Robsana Jamioy Tisoy  2024-1\n",
        "\n",
        "##Conditionals- Google Colab"
      ],
      "metadata": {
        "id": "LGFlzdaw3YRW"
      }
    },
    {
      "cell_type": "markdown",
      "source": [
        "Exercises 1:\n"
      ],
      "metadata": {
        "id": "4EaxW3WA3oFm"
      }
    },
    {
      "cell_type": "code",
      "source": [
        "###recibe la edad(e), los ingresos mensuales(i) y te dices si debes o no pagar el impuesto\n",
        "e=int(input(\"cuántos años tienes?\"))\n",
        "i=float(input(\"cuáles son tus ingresos mensuales(€)?\"))\n",
        "if e > 16 and i>=1000:\n",
        "  print(\"Usted tiene la obligacion de pagar el impuesto\")\n",
        "else:\n",
        "  print(\"No debes pagar el impuesto\")"
      ],
      "metadata": {
        "id": "KIWL9EGb7SIR",
        "colab": {
          "base_uri": "https://localhost:8080/"
        },
        "outputId": "4560f9aa-37eb-4256-8792-66faa8ed366c"
      },
      "execution_count": null,
      "outputs": [
        {
          "output_type": "stream",
          "name": "stdout",
          "text": [
            "cuántos años tienes?14\n",
            "cuáles son tus ingresos mensuales(€)?1200\n",
            "No debes pagar el impuesto\n"
          ]
        }
      ]
    },
    {
      "cell_type": "markdown",
      "source": [
        "Exercises 2:\n"
      ],
      "metadata": {
        "id": "1YhwVzku6NDT"
      }
    },
    {
      "cell_type": "code",
      "source": [
        "###\n",
        "p=int(input(\"Que pizza deseas?: Ingresa 1 para vegetariana o ingresa 0 para no vegetariana \"))\n",
        "\n",
        "if p==1:\n",
        "    V=int(input(\"Elege el Ingrediente principal  de tu pizza vegetariana \\n preciona 2 si deseas Pimientos y 3 si deseas tofu\"))\n",
        "    if V==2:\n",
        "      print(\"Elegiste Pizza Vegetariana.\\n Ingredientes: \\n -Motzzalela \\n -Tomate\\n -Pimientos\")\n",
        "    elif V==3:\n",
        "      print(\"Elegiste Pizza Vegetariana.\\n Ingredientes: \\n -Motzzalela \\n -Tomate\\n -Tofu\")\n",
        "    else:\n",
        "      print(\"Elegiste una opcion incorrecta\")\n",
        "elif p==0:\n",
        "\n",
        "    N=int(input(\"Elege el Ingrediente principal  de tu pizza  \\n preciona 4 si deseas Pepperoni,  5 si deseas Jamon y 6 si deseas Salmon\"))\n",
        "    if N==4:\n",
        "      print(\"Elegiste Pizza No Vegetariana.\\n Ingredientes: \\n -Motzzalela \\n -Tomate\\n -Pepperoni\")\n",
        "    elif N==5:\n",
        "      print(\"Elegiste Pizza No Vegetariana.\\n Ingredientes: \\n -Motzzalela \\n -Tomate\\n -Jamon\")\n",
        "    elif N==6:\n",
        "      print(\"Elegiste Pizza No Vegetariana.\\n Ingredientes: \\n -Motzzalela \\n -Tomate\\n -Salmon\")\n",
        "    else:\n",
        "      print(\"Elegiste una opcion incorrecta\")\n",
        "else:\n",
        "  print(\"Elegiste una opcion no valida\")\n"
      ],
      "metadata": {
        "id": "ya4etdWK6Q-k",
        "outputId": "7e05f48f-8a39-423e-c080-e69d0fa295e9",
        "colab": {
          "base_uri": "https://localhost:8080/"
        }
      },
      "execution_count": null,
      "outputs": [
        {
          "output_type": "stream",
          "name": "stdout",
          "text": [
            "Que pizza deseas?: Ingresa 1 para vegetariana o ingresa 0 para no vegetariana 0\n",
            "Elege el Ingrediente principal  de tu pizza  \n",
            " preciona 4 si deseas Pepperoni,  5 si deseas Jamon y 6 si deseas Salmon6\n",
            "Elegiste Pizza No Vegetariana.\n",
            " Ingredientes: \n",
            " -Motzzalela \n",
            " -Tomate\n",
            " -Salmon\n"
          ]
        }
      ]
    }
  ]
}
