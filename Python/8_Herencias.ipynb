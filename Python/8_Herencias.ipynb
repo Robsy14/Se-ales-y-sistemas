{
  "nbformat": 4,
  "nbformat_minor": 0,
  "metadata": {
    "colab": {
      "provenance": [],
      "include_colab_link": true
    },
    "kernelspec": {
      "name": "python3",
      "display_name": "Python 3"
    },
    "language_info": {
      "name": "python"
    }
  },
  "cells": [
    {
      "cell_type": "markdown",
      "metadata": {
        "id": "view-in-github",
        "colab_type": "text"
      },
      "source": [
        "<a href=\"https://colab.research.google.com/github/Robsy14/Se-ales-y-sistemas/blob/main/8_Herencias.ipynb\" target=\"_parent\"><img src=\"https://colab.research.google.com/assets/colab-badge.svg\" alt=\"Open In Colab\"/></a>"
      ]
    },
    {
      "cell_type": "markdown",
      "source": [
        "#Cuaderno 8- Ejercicios python\n",
        "##Lina Robsana Jamioy Tisoy 2024-1\n",
        "##Herencias- Google Colab"
      ],
      "metadata": {
        "id": "aQYVD5vNREYx"
      }
    },
    {
      "cell_type": "markdown",
      "source": [
        "# Herencias en clases\n",
        "\n",
        "En programación, las herencias se refieren a la capacidad de una clase (llamada clase derivada o subclase) de heredar propiedades y métodos de otra clase (llamada clase base o superclase).\n",
        "\n",
        "La herencia es un concepto fundamental en la programación orientada a objetos (POO) y permite crear jerarquías de clases, donde las clases derivadas heredan características comunes de la clase base y también pueden agregar sus propias propiedades y métodos específicos.\n",
        "\n",
        "La herencia permite reutilizar el código existente, ya que las clases derivadas pueden aprovechar la funcionalidad implementada en la clase base sin tener que volver a escribirlo. Esto promueve la modularidad, el mantenimiento y la extensibilidad del código."
      ],
      "metadata": {
        "id": "vK6RvvN_QnR6"
      }
    },
    {
      "cell_type": "markdown",
      "source": [
        "### Ejemplo #1\n",
        "\n",
        "Supongamos que estás creando un programa para administrar empleados en una empresa. Tienes una clase base llamada \"Empleado\" y quieres crear una clase derivada llamada \"EmpleadoAsalariado\" que herede de la clase base."
      ],
      "metadata": {
        "id": "4r5En97IRAL5"
      }
    },
    {
      "cell_type": "code",
      "execution_count": null,
      "metadata": {
        "id": "w7MZ5olnQkUm"
      },
      "outputs": [],
      "source": [
        "class Empleado:\n",
        "    def __init__(self, nombre, salario):\n",
        "        self.nombre = nombre\n",
        "        self.salario = salario\n",
        "\n",
        "    def obtener_salario(self):\n",
        "        return self.salario\n",
        "\n",
        "class EmpleadoAsalariado(Empleado):\n",
        "    def __init__(self, nombre, salario, bono):\n",
        "        super().__init__(nombre, salario)  # Llama al constructor de la clase base\n",
        "        self.bono = bono\n",
        "\n",
        "    def obtener_salario(self):\n",
        "        return self.salario + self.bono\n",
        "\n",
        "# Creamos una instancia de la clase base\n",
        "empleado1 = Empleado(\"Juan\", 2000)\n",
        "print(empleado1.obtener_salario())  # Output: 2000\n",
        "\n",
        "# Creamos una instancia de la clase derivada\n",
        "empleado2 = EmpleadoAsalariado(\"Pedro\", 2500, 500)\n",
        "print(empleado2.obtener_salario())  # Output: 3000 (salario + bono)"
      ]
    },
    {
      "cell_type": "markdown",
      "source": [
        "En este ejemplo, la clase base \"Empleado\" tiene un constructor que recibe el nombre y el salario del empleado, y un método llamado \"obtener_salario()\" que devuelve el salario.\n",
        "\n",
        "La clase derivada \"EmpleadoAsalariado\" hereda de la clase base \"Empleado\" y agrega un nuevo atributo llamado \"bono\". Además, se anula el método \"obtener_salario()\" de la clase base para incluir el bono en el cálculo.\n",
        "\n",
        "Luego, creamos una instancia de la clase base \"Empleado\" y llamamos al método \"obtener_salario()\", devolviendo el salario básico.\n",
        "\n",
        "Después, creamos una instancia de la clase derivada \"EmpleadoAsalariado\" y llamamos al método \"obtener_salario()\", que devuelve el salario básico más el bono.\n",
        "\n",
        "Este ejemplo simplificado muestra cómo la clase derivada hereda los atributos y métodos de la clase base y puede agregar su propia funcionalidad."
      ],
      "metadata": {
        "id": "8pCtoWwfUQrG"
      }
    },
    {
      "cell_type": "markdown",
      "source": [
        "###Ejemplo #2\n",
        "\n",
        "Clases heredadas de automoviles"
      ],
      "metadata": {
        "id": "6RJac47SURZq"
      }
    },
    {
      "cell_type": "code",
      "source": [
        "class Vehiculo:\n",
        "    def __init__(self, marca, modelo, color):\n",
        "        self.marca = marca\n",
        "        self.modelo = modelo\n",
        "        self.color = color\n",
        "\n",
        "    def acelerar(self):\n",
        "        print(\"El vehículo está acelerando.\")\n",
        "\n",
        "    def frenar(self):\n",
        "        print(\"El vehículo está frenando.\")\n",
        "\n",
        "class Carro(Vehiculo):\n",
        "    def __init__(self, marca, modelo, color, num_puertas):\n",
        "        super().__init__(marca, modelo, color)\n",
        "        self.num_puertas = num_puertas\n",
        "\n",
        "    def abrir_puertas(self):\n",
        "        print(\"Las puertas del carro están abiertas.\")\n",
        "\n",
        "class Autobus(Vehiculo):\n",
        "    def __init__(self, marca, modelo, color, capacidad_pasajeros):\n",
        "        super().__init__(marca, modelo, color)\n",
        "        self.capacidad_pasajeros = capacidad_pasajeros\n",
        "\n",
        "    def subir_pasajeros(self):\n",
        "        print(\"Los pasajeros están subiendo al autobús.\")\n",
        "\n",
        "class Motocicleta(Vehiculo):\n",
        "    def __init__(self, marca, modelo, color, cilindrada):\n",
        "        super().__init__(marca, modelo, color)\n",
        "        self.cilindrada = cilindrada\n",
        "\n",
        "    def encender(self):\n",
        "        print(\"La motocicleta está encendida.\")\n",
        "\n",
        "class Hibrido(Carro):\n",
        "    def __init__(self, marca, modelo, color, num_puertas,modo_electrico):\n",
        "        super().__init__(marca, modelo, color, num_puertas)\n",
        "        self.modo_electrico = False\n",
        "\n",
        "\n",
        "    def activar_modo_electrico(self):\n",
        "        self.modo_electrico = True\n",
        "        print(\"El vehículo híbrido está en modo eléctrico.\")\n",
        "\n",
        "class Camion(Vehiculo):\n",
        "    def __init__(self, marca, modelo, color, capacidad_carga):\n",
        "        super().__init__(marca, modelo, color)\n",
        "        self.capacidad_carga = capacidad_carga\n",
        "\n",
        "    def cargar_mercancia(self):\n",
        "        print(\"Se está cargando la mercancía en el camión.\")"
      ],
      "metadata": {
        "id": "xYt75MD3Yy46"
      },
      "execution_count": null,
      "outputs": []
    },
    {
      "cell_type": "markdown",
      "source": [
        "En este ejemplo, tenemos una clase base llamada \"Vehiculo\" que contiene atributos y métodos generales que son comunes a todos los vehículos. Luego, tenemos las clases derivadas \"Carro\", \"Autobus\", \"Motocicleta\", \"Hibrido\" y \"Camion\" que heredan de la clase base y añaden atributos y métodos específicos.\n",
        "\n",
        "Cada clase derivada tiene su propio constructor que llama al constructor de la clase base utilizando la función super(). Además, cada clase derivada puede tener sus propios métodos adicionales según las características particulares del tipo de vehículo.\n",
        "\n",
        "Con este ejemplo, puedes crear instancias de los diferentes tipos de vehículos y acceder a sus métodos y atributos heredados. Por ejemplo:"
      ],
      "metadata": {
        "id": "-Gzan4-0duTq"
      }
    },
    {
      "cell_type": "code",
      "source": [
        "carro = Carro(\"Toyota\", \"Corolla\", \"Rojo\", 4)\n",
        "carro.acelerar()\n",
        "carro.abrir_puertas()\n",
        "\n",
        "autobus = Autobus(\"Mercedes\", \"Citaro\", \"Blanco\", 50)\n",
        "autobus.frenar()\n",
        "autobus.subir_pasajeros()\n",
        "\n",
        "motocicleta = Motocicleta(\"Honda\", \"CBR\", \"Negro\", 500)\n",
        "motocicleta.encender()\n",
        "motocicleta.frenar()\n",
        "\n",
        "hibrido = Hibrido(\"Toyota\", \"Prius\", \"Azul\", 4)\n"
      ],
      "metadata": {
        "colab": {
          "base_uri": "https://localhost:8080/"
        },
        "id": "0MxNgAgyd3b7",
        "outputId": "6fe00ce4-aa20-4524-8ebb-1536cac79fcd"
      },
      "execution_count": null,
      "outputs": [
        {
          "output_type": "stream",
          "name": "stdout",
          "text": [
            "El vehículo está acelerando.\n",
            "Las puertas del carro están abiertas.\n",
            "El vehículo está frenando.\n",
            "Los pasajeros están subiendo al autobús.\n",
            "La motocicleta está encendida.\n",
            "El vehículo está frenando.\n"
          ]
        }
      ]
    },
    {
      "cell_type": "markdown",
      "source": [
        "## Ejercicio_1.\n",
        "\n",
        "Crea un sistema de manejo de figuras geométricas utilizando clases y herencia. Debes tener una clase base llamada \"FiguraGeometrica\" con un método abstracto llamado \"calcular_area()\". Luego, crea clases derivadas para diferentes tipos de figuras geométricas, como \"Círculo\", \"Rectángulo\" y \"Triángulo\". Cada clase derivada debe implementar el método \"calcular_area()\" de acuerdo con la fórmula correspondiente para el cálculo del área de esa figura."
      ],
      "metadata": {
        "id": "ZjKccYRmvtN7"
      }
    },
    {
      "cell_type": "code",
      "source": [
        "from abc import ABC, abstractmethod\n",
        "import math\n",
        "\n",
        "# Clase base abstracta\n",
        "class FiguraGeometrica(ABC):\n",
        "    @abstractmethod\n",
        "    def calcular_area(self):\n",
        "        pass\n",
        "\n",
        "# Clase derivada para el Círculo\n",
        "class Circulo(FiguraGeometrica):\n",
        "    def __init__(self, radio):\n",
        "        self.radio = radio\n",
        "\n",
        "    def calcular_area(self):\n",
        "        return math.pi * (self.radio ** 2)\n",
        "\n",
        "# Clase derivada para el Rectángulo\n",
        "class Rectangulo(FiguraGeometrica):\n",
        "    def __init__(self, ancho, alto):\n",
        "        self.ancho = ancho\n",
        "        self.alto = alto\n",
        "\n",
        "    def calcular_area(self):\n",
        "        return self.ancho * self.alto\n",
        "\n",
        "# Clase derivada para el Triángulo\n",
        "class Triangulo(FiguraGeometrica):\n",
        "    def __init__(self, base, altura):\n",
        "        self.base = base\n",
        "        self.altura = altura\n",
        "\n",
        "    def calcular_area(self):\n",
        "        return (self.base * self.altura) / 2\n",
        "\n",
        "# Ejemplos de uso\n",
        "circulo = Circulo(radio=5)\n",
        "rectangulo = Rectangulo(ancho=4, alto=6)\n",
        "triangulo = Triangulo(base=3, altura=7)\n",
        "\n",
        "print(f\"Área del Círculo: {circulo.calcular_area():.2f}\")\n",
        "print(f\"Área del Rectángulo: {rectangulo.calcular_area():.2f}\")\n",
        "print(f\"Área del Triángulo: {triangulo.calcular_area():.2f}\")\n"
      ],
      "metadata": {
        "colab": {
          "base_uri": "https://localhost:8080/"
        },
        "id": "QeCtGP1mQozx",
        "outputId": "69b41ee4-3e8c-443c-987b-b033306c33ad"
      },
      "execution_count": 1,
      "outputs": [
        {
          "output_type": "stream",
          "name": "stdout",
          "text": [
            "Área del Círculo: 78.54\n",
            "Área del Rectángulo: 24.00\n",
            "Área del Triángulo: 10.50\n"
          ]
        }
      ]
    },
    {
      "cell_type": "markdown",
      "source": [
        "## Ejercicio_2\n",
        "\n",
        "Crea un sistema de reserva de vuelos utilizando clases y herencia. Debes tener una clase base llamada \"Vuelo\" con los siguientes atributos: número de vuelo, origen, destino, y capacidad máxima de pasajeros. Luego, crea una clase derivada llamada \"VueloEconomico\" que herede de la clase base y agregue un atributo adicional llamado \"tarifa\". Además, agrega métodos en ambas clases para mostrar la información del vuelo y realizar una reserva de asientos.\n",
        "\n",
        "La clase base \"Vuelo\" debe tener un método para verificar si hay asientos disponibles y otro para realizar la reserva de un asiento. La clase derivada \"VueloEconomico\" puede tener métodos adicionales para calcular el precio total de la reserva de acuerdo con la tarifa y la cantidad de asientos reservados."
      ],
      "metadata": {
        "id": "VVeP1H2KwHaa"
      }
    },
    {
      "cell_type": "code",
      "source": [
        "# Clase base\n",
        "class Vuelo:\n",
        "    def __init__(self, numero_vuelo, origen, destino, capacidad_maxima):\n",
        "        self.numero_vuelo = numero_vuelo\n",
        "        self.origen = origen\n",
        "        self.destino = destino\n",
        "        self.capacidad_maxima = capacidad_maxima\n",
        "        self.pasajeros_reservados = 0\n",
        "\n",
        "    def mostrar_informacion(self):\n",
        "        print(f\"Vuelo {self.numero_vuelo}: {self.origen} -> {self.destino}\")\n",
        "        print(f\"Capacidad máxima: {self.capacidad_maxima}\")\n",
        "        print(f\"Pasajeros reservados: {self.pasajeros_reservados}\")\n",
        "\n",
        "    def hay_asientos_disponibles(self):\n",
        "        return self.pasajeros_reservados < self.capacidad_maxima\n",
        "\n",
        "    def reservar_asiento(self):\n",
        "        if self.hay_asientos_disponibles():\n",
        "            self.pasajeros_reservados += 1\n",
        "            print(\"Reserva exitosa.\")\n",
        "        else:\n",
        "            print(\"No hay asientos disponibles.\")\n",
        "\n",
        "# Clase derivada para vuelo económico\n",
        "class VueloEconomico(Vuelo):\n",
        "    def __init__(self, numero_vuelo, origen, destino, capacidad_maxima, tarifa):\n",
        "        super().__init__(numero_vuelo, origen, destino, capacidad_maxima)\n",
        "        self.tarifa = tarifa\n",
        "\n",
        "    def mostrar_informacion(self):\n",
        "        super().mostrar_informacion()\n",
        "        print(f\"Tarifa: ${self.tarifa:.2f}\")\n",
        "\n",
        "    def calcular_precio_total(self, cantidad_asientos):\n",
        "        if cantidad_asientos <= 0:\n",
        "            print(\"La cantidad de asientos debe ser positiva.\")\n",
        "            return None\n",
        "\n",
        "        if self.pasajeros_reservados + cantidad_asientos <= self.capacidad_maxima:\n",
        "            return self.tarifa * cantidad_asientos\n",
        "        else:\n",
        "            print(\"No hay suficientes asientos disponibles.\")\n",
        "            return None\n",
        "\n",
        "    def reservar_asientos(self, cantidad_asientos):\n",
        "        precio_total = self.calcular_precio_total(cantidad_asientos)\n",
        "        if precio_total is not None:\n",
        "            for _ in range(cantidad_asientos):\n",
        "                self.reservar_asiento()\n",
        "            print(f\"Precio total por {cantidad_asientos} asientos: ${precio_total:.2f}\")\n",
        "        else:\n",
        "            print(\"No se pudo completar la reserva.\")\n",
        "\n",
        "# Ejemplos de uso\n",
        "vuelo = Vuelo(\"ABC123\", \"Ciudad A\", \"Ciudad B\", 150)\n",
        "vuelo.mostrar_informacion()\n",
        "vuelo.reservar_asiento()\n",
        "\n",
        "print(\"\\n---\\n\")\n",
        "\n",
        "vuelo_eco = VueloEconomico(\"DEF456\", \"Ciudad C\", \"Ciudad D\", 100, 199.99)\n",
        "vuelo_eco.mostrar_informacion()\n",
        "vuelo_eco.reservar_asientos(3)\n",
        "vuelo_eco.reservar_asientos(98)  # Ejemplo para intentar reservar más de la capacidad disponible\n"
      ],
      "metadata": {
        "colab": {
          "base_uri": "https://localhost:8080/"
        },
        "id": "CV_BxaOhSGHp",
        "outputId": "8a71c1ae-599b-4cd5-ad82-cbccb68de641"
      },
      "execution_count": 2,
      "outputs": [
        {
          "output_type": "stream",
          "name": "stdout",
          "text": [
            "Vuelo ABC123: Ciudad A -> Ciudad B\n",
            "Capacidad máxima: 150\n",
            "Pasajeros reservados: 0\n",
            "Reserva exitosa.\n",
            "\n",
            "---\n",
            "\n",
            "Vuelo DEF456: Ciudad C -> Ciudad D\n",
            "Capacidad máxima: 100\n",
            "Pasajeros reservados: 0\n",
            "Tarifa: $199.99\n",
            "Reserva exitosa.\n",
            "Reserva exitosa.\n",
            "Reserva exitosa.\n",
            "Precio total por 3 asientos: $599.97\n",
            "No hay suficientes asientos disponibles.\n",
            "No se pudo completar la reserva.\n"
          ]
        }
      ]
    }
  ]
}
