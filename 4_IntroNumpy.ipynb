{
  "nbformat": 4,
  "nbformat_minor": 0,
  "metadata": {
    "colab": {
      "provenance": [],
      "include_colab_link": true
    },
    "kernelspec": {
      "name": "python3",
      "display_name": "Python 3"
    },
    "language_info": {
      "name": "python"
    }
  },
  "cells": [
    {
      "cell_type": "markdown",
      "metadata": {
        "id": "view-in-github",
        "colab_type": "text"
      },
      "source": [
        "<a href=\"https://colab.research.google.com/github/Robsy14/Se-ales-y-sistemas/blob/main/4_IntroNumpy.ipynb\" target=\"_parent\"><img src=\"https://colab.research.google.com/assets/colab-badge.svg\" alt=\"Open In Colab\"/></a>"
      ]
    },
    {
      "cell_type": "markdown",
      "source": [
        "# Cuaderno 4- Ejercicios python\n",
        "## Lina Robsana Jamioy Tisoy 2024-1\n",
        "## IntroNumpy- Google Colab"
      ],
      "metadata": {
        "id": "PoDnMw_mVUeb"
      }
    },
    {
      "cell_type": "code",
      "execution_count": null,
      "metadata": {
        "id": "A0j_1LRgiiFv",
        "colab": {
          "base_uri": "https://localhost:8080/"
        },
        "outputId": "4aef5eb0-737e-436e-d711-6baebdd54b18"
      },
      "outputs": [
        {
          "output_type": "stream",
          "name": "stdout",
          "text": [
            "<class 'int'> <class 'float'>\n"
          ]
        }
      ],
      "source": [
        "import numpy as np # importar libreria numpy\n",
        "x = 30 #tipo int\n",
        "y = 36.5 #tipo float\n",
        "\n",
        "print(type(x),type(y)) #imprimir en pantalla"
      ]
    },
    {
      "cell_type": "code",
      "source": [
        "xv = np.array([0,-2.5,10]) #crear array tipo vector\n",
        "xv"
      ],
      "metadata": {
        "id": "rAW4Q3SmjVf-",
        "colab": {
          "base_uri": "https://localhost:8080/"
        },
        "outputId": "050396ae-c7a3-4657-97a3-defcbc39f21a"
      },
      "execution_count": null,
      "outputs": [
        {
          "output_type": "execute_result",
          "data": {
            "text/plain": [
              "array([ 0. , -2.5, 10. ])"
            ]
          },
          "metadata": {},
          "execution_count": 2
        }
      ]
    },
    {
      "cell_type": "markdown",
      "source": [
        "#Listas vs numpy array\n",
        "\n",
        "Las listas pueden contener, números, strings, y en general objetos.\n",
        "Los array de numpy están pensados para procesar números (matrices, tensores)"
      ],
      "metadata": {
        "id": "2ANJCb8djWif"
      }
    },
    {
      "cell_type": "code",
      "source": [
        "xl = [0,-2,0.5]\n",
        "xl"
      ],
      "metadata": {
        "id": "cOVdYL_gl5OJ",
        "colab": {
          "base_uri": "https://localhost:8080/"
        },
        "outputId": "bebccac0-7391-48d7-cd75-8f67b211c68c"
      },
      "execution_count": null,
      "outputs": [
        {
          "output_type": "execute_result",
          "data": {
            "text/plain": [
              "[0, -2, 0.5]"
            ]
          },
          "metadata": {},
          "execution_count": 3
        }
      ]
    },
    {
      "cell_type": "code",
      "source": [
        "xl = ['Brian Patiño',0.5, 2] #lista de tres elementos con un string, un flotante y un entero\n",
        "xl"
      ],
      "metadata": {
        "id": "2u_7YmkjmC4b",
        "colab": {
          "base_uri": "https://localhost:8080/"
        },
        "outputId": "301377b9-4b3f-4542-f4a4-27676282564d"
      },
      "execution_count": null,
      "outputs": [
        {
          "output_type": "execute_result",
          "data": {
            "text/plain": [
              "['Brian Patiño', 0.5, 2]"
            ]
          },
          "metadata": {},
          "execution_count": 4
        }
      ]
    },
    {
      "cell_type": "markdown",
      "source": [
        "#Tamaños, indexación y graficar numpy array"
      ],
      "metadata": {
        "id": "4rsC2rxtmLTh"
      }
    },
    {
      "cell_type": "code",
      "source": [
        "xv.shape # vector con 3 elementos - > shape retorna la forma (tamaño del arreglo)"
      ],
      "metadata": {
        "id": "hgudyquemKl5",
        "colab": {
          "base_uri": "https://localhost:8080/"
        },
        "outputId": "2d161f43-28a6-473a-a759-1f6e9ea66c8a"
      },
      "execution_count": null,
      "outputs": [
        {
          "output_type": "execute_result",
          "data": {
            "text/plain": [
              "(3,)"
            ]
          },
          "metadata": {},
          "execution_count": 5
        }
      ]
    },
    {
      "cell_type": "code",
      "source": [
        "xm = np.array([[0,-2.5,10,4],[6,47,70,2],[8,10.2,-698,-0.9]]) #cada lista de números es tratada como una fila de la matriz\n",
        "xm"
      ],
      "metadata": {
        "id": "pxaGM0EQmSZu",
        "colab": {
          "base_uri": "https://localhost:8080/"
        },
        "outputId": "0e16b2ff-54f2-4518-90f2-44d2476d0ecb"
      },
      "execution_count": null,
      "outputs": [
        {
          "output_type": "execute_result",
          "data": {
            "text/plain": [
              "array([[   0. ,   -2.5,   10. ,    4. ],\n",
              "       [   6. ,   47. ,   70. ,    2. ],\n",
              "       [   8. ,   10.2, -698. ,   -0.9]])"
            ]
          },
          "metadata": {},
          "execution_count": 6
        }
      ]
    },
    {
      "cell_type": "code",
      "source": [
        "xm.shape"
      ],
      "metadata": {
        "id": "WShNgcwpmVQn",
        "colab": {
          "base_uri": "https://localhost:8080/"
        },
        "outputId": "987ca1a1-f13e-40aa-bfeb-bf5d6832c5bd"
      },
      "execution_count": null,
      "outputs": [
        {
          "output_type": "execute_result",
          "data": {
            "text/plain": [
              "(3, 4)"
            ]
          },
          "metadata": {},
          "execution_count": 7
        }
      ]
    },
    {
      "cell_type": "markdown",
      "source": [
        "# En python se indexa desde 0"
      ],
      "metadata": {
        "id": "XfbAsn4HmiYz"
      }
    },
    {
      "cell_type": "code",
      "source": [
        "xv = np.array([-6,5,4.2,3,8,50,16])\n",
        "print(xv,xv.shape,xv[0])"
      ],
      "metadata": {
        "id": "JPCFkhpvmnMy",
        "colab": {
          "base_uri": "https://localhost:8080/"
        },
        "outputId": "ed7d72f9-42f1-4277-f4fa-0b177473628c"
      },
      "execution_count": null,
      "outputs": [
        {
          "output_type": "stream",
          "name": "stdout",
          "text": [
            "[-6.   5.   4.2  3.   8.  50.  16. ] (7,) -6.0\n"
          ]
        }
      ]
    },
    {
      "cell_type": "markdown",
      "source": [
        "# En Python, cuando se indexa por rangos de valores, no se incluye el último elemento"
      ],
      "metadata": {
        "id": "_-muWXM9mtjf"
      }
    },
    {
      "cell_type": "code",
      "source": [
        "xv[1:5] # x[t_0] # no se incluye el elemento 5 que equivale a x[5] = 50"
      ],
      "metadata": {
        "id": "Uv0esZSnmr4Z",
        "colab": {
          "base_uri": "https://localhost:8080/"
        },
        "outputId": "ee795ffb-555e-48c6-8a64-874a4661accf"
      },
      "execution_count": null,
      "outputs": [
        {
          "output_type": "execute_result",
          "data": {
            "text/plain": [
              "array([5. , 4.2, 3. , 8. ])"
            ]
          },
          "metadata": {},
          "execution_count": 9
        }
      ]
    },
    {
      "cell_type": "markdown",
      "source": [
        "Cuando se piden todos los elementos hasta el final con el operador : si se incluye el último elemento"
      ],
      "metadata": {
        "id": "5YzGa1qpm-JZ"
      }
    },
    {
      "cell_type": "code",
      "source": [
        "# desde el segundo elemento hasta el ultimo\n",
        "print(xv)\n",
        "print(xv[1:])"
      ],
      "metadata": {
        "id": "Crz6m4BCnBC-",
        "colab": {
          "base_uri": "https://localhost:8080/"
        },
        "outputId": "06e28620-5bb8-4732-8416-89408f269957"
      },
      "execution_count": null,
      "outputs": [
        {
          "output_type": "stream",
          "name": "stdout",
          "text": [
            "[-6.   5.   4.2  3.   8.  50.  16. ]\n",
            "[ 5.   4.2  3.   8.  50.  16. ]\n"
          ]
        }
      ]
    },
    {
      "cell_type": "code",
      "source": [
        "#desde antes del tercer elmento hasta el principio\n",
        "print(xv)\n",
        "print(xv[:3])"
      ],
      "metadata": {
        "id": "zHtT__fdnDMm",
        "colab": {
          "base_uri": "https://localhost:8080/"
        },
        "outputId": "13f8c722-ddf2-4362-866b-ae9ceea65384"
      },
      "execution_count": null,
      "outputs": [
        {
          "output_type": "stream",
          "name": "stdout",
          "text": [
            "[-6.   5.   4.2  3.   8.  50.  16. ]\n",
            "[-6.   5.   4.2]\n"
          ]
        }
      ]
    },
    {
      "cell_type": "markdown",
      "source": [
        "# Para matrices se extiende la misma sintaxis para indexar vectores, pero separando la indexación por filas y por columnas"
      ],
      "metadata": {
        "id": "RyocOAxxnG6d"
      }
    },
    {
      "cell_type": "code",
      "source": [
        "print(xm)"
      ],
      "metadata": {
        "id": "mkt89S_KnGpa",
        "colab": {
          "base_uri": "https://localhost:8080/"
        },
        "outputId": "dcf53446-ae3b-4253-c748-3cfd744643cc"
      },
      "execution_count": null,
      "outputs": [
        {
          "output_type": "stream",
          "name": "stdout",
          "text": [
            "[[   0.    -2.5   10.     4. ]\n",
            " [   6.    47.    70.     2. ]\n",
            " [   8.    10.2 -698.    -0.9]]\n"
          ]
        }
      ]
    },
    {
      "cell_type": "code",
      "source": [
        "xm[0:2,:2]"
      ],
      "metadata": {
        "id": "5S6CVqkfnTeu",
        "colab": {
          "base_uri": "https://localhost:8080/"
        },
        "outputId": "1a125ae3-c57a-4dcd-d111-41f243eb89e7"
      },
      "execution_count": null,
      "outputs": [
        {
          "output_type": "execute_result",
          "data": {
            "text/plain": [
              "array([[ 0. , -2.5],\n",
              "       [ 6. , 47. ]])"
            ]
          },
          "metadata": {},
          "execution_count": 13
        }
      ]
    },
    {
      "cell_type": "code",
      "source": [
        "xm[0:2,0]"
      ],
      "metadata": {
        "id": "g06VeUeenV2j",
        "colab": {
          "base_uri": "https://localhost:8080/"
        },
        "outputId": "a071f7d0-db65-412a-f25a-bee7016e8342"
      },
      "execution_count": null,
      "outputs": [
        {
          "output_type": "execute_result",
          "data": {
            "text/plain": [
              "array([0., 6.])"
            ]
          },
          "metadata": {},
          "execution_count": 14
        }
      ]
    },
    {
      "cell_type": "code",
      "source": [
        "xm[0,1:]"
      ],
      "metadata": {
        "id": "X3e1USJunbmT",
        "colab": {
          "base_uri": "https://localhost:8080/"
        },
        "outputId": "7dc02ca3-e3e2-4598-86df-b3a394de4763"
      },
      "execution_count": null,
      "outputs": [
        {
          "output_type": "execute_result",
          "data": {
            "text/plain": [
              "array([-2.5, 10. ,  4. ])"
            ]
          },
          "metadata": {},
          "execution_count": 15
        }
      ]
    },
    {
      "cell_type": "code",
      "source": [
        "np.diag(xm)#diagonal del arreglo (matriz)"
      ],
      "metadata": {
        "id": "HcF0wWaWnhzE",
        "colab": {
          "base_uri": "https://localhost:8080/"
        },
        "outputId": "9f00d053-0c2d-4f22-ede6-2f35c6a7df97"
      },
      "execution_count": null,
      "outputs": [
        {
          "output_type": "execute_result",
          "data": {
            "text/plain": [
              "array([   0.,   47., -698.])"
            ]
          },
          "metadata": {},
          "execution_count": 16
        }
      ]
    },
    {
      "cell_type": "markdown",
      "source": [
        "#Vectores"
      ],
      "metadata": {
        "id": "H9xP5gCAouDA"
      }
    },
    {
      "cell_type": "markdown",
      "source": [
        "Un vector es una secuencia de valores numéricos. En Python, podemos representar un vector utilizando una lista de números. Por ejemplo, el siguiente código crea un vector con los valores 1, 2 y 3:"
      ],
      "metadata": {
        "id": "xBzI1mrwoy9C"
      }
    },
    {
      "cell_type": "code",
      "source": [
        "vector = [1, 2, 3]"
      ],
      "metadata": {
        "id": "wKNF_4jEovei"
      },
      "execution_count": null,
      "outputs": []
    },
    {
      "cell_type": "markdown",
      "source": [
        "Podemos acceder a cada elemento del vector utilizando su índice. El índice del primer elemento es 0, el índice del segundo elemento es 1, y así sucesivamente. Por ejemplo, para acceder al segundo elemento del vector, podemos utilizar el siguiente código:"
      ],
      "metadata": {
        "id": "5qRdoqF6o5xN"
      }
    },
    {
      "cell_type": "code",
      "source": [
        "segundo_elemento = vector[1]"
      ],
      "metadata": {
        "id": "PJdCm_NZo8Xo"
      },
      "execution_count": null,
      "outputs": []
    },
    {
      "cell_type": "markdown",
      "source": [
        "También podemos utilizar la función len para obtener la longitud del vector:"
      ],
      "metadata": {
        "id": "jDI4thYXo_Zt"
      }
    },
    {
      "cell_type": "code",
      "source": [
        "longitud = len(vector)"
      ],
      "metadata": {
        "id": "ZypNr3FJo_FS"
      },
      "execution_count": null,
      "outputs": []
    },
    {
      "cell_type": "markdown",
      "source": [
        "Además, podemos realizar operaciones aritméticas con vectores utilizando bucles for. Por ejemplo, el siguiente código suma dos vectores indexando las listas:"
      ],
      "metadata": {
        "id": "qY_VSrskpIVt"
      }
    },
    {
      "cell_type": "code",
      "source": [
        "vector1 = [1, 2, 3]\n",
        "vector2 = [4, 5, 6]\n",
        "\n",
        "resultado = []\n",
        "for i in range(len(vector1)):\n",
        "    suma = vector1[i] + vector2[i]\n",
        "    resultado.append(suma)\n",
        "print (resultado)"
      ],
      "metadata": {
        "id": "AUph6GDHpHjp",
        "colab": {
          "base_uri": "https://localhost:8080/"
        },
        "outputId": "3f52f874-7cdd-49f5-df70-e7d99615a692"
      },
      "execution_count": null,
      "outputs": [
        {
          "output_type": "stream",
          "name": "stdout",
          "text": [
            "[5, 7, 9]\n"
          ]
        }
      ]
    },
    {
      "cell_type": "markdown",
      "source": [
        "#Matrices\n",
        "\n",
        "Una matriz es una tabla de valores numéricos. En Python, podemos representar una matriz utilizando una lista de listas. Cada lista interna representa una fila de la matriz. Por ejemplo, el siguiente código crea una matriz de 2 filas y 3 columnas:"
      ],
      "metadata": {
        "id": "GmhYC3V5pUOE"
      }
    },
    {
      "cell_type": "code",
      "source": [
        "matriz = [[1, 2, 3], [4, 5, 6]]"
      ],
      "metadata": {
        "id": "H3alN06LpWNl"
      },
      "execution_count": null,
      "outputs": []
    },
    {
      "cell_type": "markdown",
      "source": [
        "Podemos acceder a cada elemento de la matriz utilizando su índice de fila y columna. El índice de la primera fila es 0, el índice de la segunda fila es 1, y así sucesivamente. El índice de la primera columna es 0, el índice de la segunda columna es 1, y así sucesivamente. Por ejemplo, para acceder al elemento en la primera fila y la segunda columna de la matriz, podemos utilizar el siguiente código:"
      ],
      "metadata": {
        "id": "D-zcpq-npa68"
      }
    },
    {
      "cell_type": "code",
      "source": [
        "elemento = matriz[0][1]\n",
        "print(elemento)"
      ],
      "metadata": {
        "id": "aqcRdvhTpgxZ",
        "colab": {
          "base_uri": "https://localhost:8080/"
        },
        "outputId": "0eb44346-0237-49a9-a0ce-6470a5b23323"
      },
      "execution_count": null,
      "outputs": [
        {
          "output_type": "stream",
          "name": "stdout",
          "text": [
            "2\n"
          ]
        }
      ]
    },
    {
      "cell_type": "markdown",
      "source": [
        "También podemos utilizar la función len para obtener el número de filas y columnas de la matriz:"
      ],
      "metadata": {
        "id": "vEOW9rDDpjhN"
      }
    },
    {
      "cell_type": "code",
      "source": [
        "num_filas = len(matriz)\n",
        "num_columnas = len(matriz[0])\n",
        "\n",
        "print (num_filas, num_columnas)"
      ],
      "metadata": {
        "id": "9UHVMPYPplBJ",
        "colab": {
          "base_uri": "https://localhost:8080/"
        },
        "outputId": "9094e67f-fa8d-4b0b-86a6-5298e3bda151"
      },
      "execution_count": null,
      "outputs": [
        {
          "output_type": "stream",
          "name": "stdout",
          "text": [
            "2 3\n"
          ]
        }
      ]
    },
    {
      "cell_type": "markdown",
      "source": [
        "Podemos realizar operaciones aritméticas con matrices utilizando bucles for. Por ejemplo, el siguiente código suma dos matrices:"
      ],
      "metadata": {
        "id": "mG9IatIPprn4"
      }
    },
    {
      "cell_type": "code",
      "source": [
        "# Definimos las matrices a sumar\n",
        "matriz1 = [[1, 2, 3], [4, 5, 6], [7, 8, 9]]\n",
        "matriz2 = [[9, 8, 7], [6, 5, 4], [3, 2, 1]]\n",
        "\n",
        "# Creamos una matriz vacía del mismo tamaño que las matrices originales\n",
        "suma = []\n",
        "for i in range(len(matriz1)):\n",
        "    fila = []\n",
        "    for j in range(len(matriz1[0])):\n",
        "        fila.append(0)\n",
        "    suma.append(fila)\n",
        "\n",
        "# Realizamos la suma de cada elemento correspondiente en ambas matrices\n",
        "for i in range(len(matriz1)):\n",
        "    for j in range(len(matriz1[0])):\n",
        "        suma[i][j] = matriz1[i][j] + matriz2[i][j]\n",
        "\n",
        "# Imprimimos la matriz resultante\n",
        "print(suma)\n"
      ],
      "metadata": {
        "colab": {
          "base_uri": "https://localhost:8080/"
        },
        "id": "bQ9gAQryprXS",
        "outputId": "941fda37-62d9-42f7-959a-6b220c75634f"
      },
      "execution_count": null,
      "outputs": [
        {
          "output_type": "stream",
          "name": "stdout",
          "text": [
            "[[10, 10, 10], [10, 10, 10], [10, 10, 10]]\n"
          ]
        }
      ]
    },
    {
      "cell_type": "markdown",
      "source": [
        "**Nota**: Si bien, las listas pueden utilizarse para crear vectores y matrices, para operaciones matemáticas se recomienda trabajar con la librería numpy y arrays, dado que se optimiza el uso de cómputo y se cuenta con métodos depurados para operaciones matemáticas y algebráicas."
      ],
      "metadata": {
        "id": "y7oDRC4V-xGV"
      }
    },
    {
      "cell_type": "markdown",
      "source": [
        "Developed by:\n",
        "\n",
        "- Brian Patino Agudelo - bpatinoa@unal.edu.co\n",
        "\n",
        "- Andrés Marino Álvarez Meza - amalvarezme@unal.edu.co\n",
        "\n",
        "- César Germán Castellanos Domínguez - cgcastellanosd@unal.edu.co"
      ],
      "metadata": {
        "id": "2kgFEuPs_HPB"
      }
    }
  ]
}