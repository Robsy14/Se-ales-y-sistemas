{
  "nbformat": 4,
  "nbformat_minor": 0,
  "metadata": {
    "colab": {
      "provenance": [],
      "include_colab_link": true
    },
    "kernelspec": {
      "name": "python3",
      "display_name": "Python 3"
    },
    "language_info": {
      "name": "python"
    }
  },
  "cells": [
    {
      "cell_type": "markdown",
      "metadata": {
        "id": "view-in-github",
        "colab_type": "text"
      },
      "source": [
        "<a href=\"https://colab.research.google.com/github/Robsy14/Se-ales-y-sistemas/blob/main/Parcial2/Pregunta4_Parciel2.ipynb\" target=\"_parent\"><img src=\"https://colab.research.google.com/assets/colab-badge.svg\" alt=\"Open In Colab\"/></a>"
      ]
    },
    {
      "cell_type": "markdown",
      "source": [
        "https://drive.google.com/file/d/1Jw-OPcFZ6uv25FF0WMl4WDNTItxEheQL/view?usp=sharing"
      ],
      "metadata": {
        "id": "ibe4oykdR4Pf"
      }
    },
    {
      "cell_type": "code",
      "source": [
        "#cargar datos desde drive acceso libre\n",
        "FILEID = \"1Jw-OPcFZ6uv25FF0WMl4WDNTItxEheQL\"\n",
        "\n",
        "!wget --load-cookies /tmp/cookies.wav \"https://docs.google.com/uc?export=download&confirm=$(wget --quiet --save-cookies /tmp/cookies.txt --keep-session-cookies --no-c0heck-certificate 'https://docs.google.com/uc?export=download&id='$FILEID -O- | sed -rn 's/.*confirm=([0-9A-Za-z_]+).*/\\1\\n/p')&id=\"$FILEID -O  canciones.xlsx && rm -rf /tmp/cookies.txt\n",
        "#!unzip -o codigos.zip\n",
        "!dir"
      ],
      "metadata": {
        "id": "mxeibgjJSJAc"
      },
      "execution_count": null,
      "outputs": []
    },
    {
      "cell_type": "code",
      "execution_count": null,
      "metadata": {
        "id": "bF8UvRg3mDgf"
      },
      "outputs": [],
      "source": [
        "import pyaudio #Grabar audio9s\n",
        "import wave   # Proporciona una interfas para el formato \"wav\"\n",
        "import os     # Acceder al funcionamiento operativo y manipular\n",
        "import numpy as np   # Estructura de datos con matrices\n",
        "import matplotlib.pyplot as plt  # Trazar graficos en 2d\n",
        "import scipy.io.wavfile as waves # Devuelve una tupla\n",
        "import IPython.display as ipd    # Devuelve archivo en formato de audio\n",
        "import warnings   # Control de advertencias para errores\n",
        "warnings.filterwarnings('ignore')"
      ]
    },
    {
      "cell_type": "code",
      "source": [
        "#parametros de audio\n",
        "FORMAT = pyaudio.paInt16\n",
        "CHANNELS=1\n",
        "RATE = 44100\n",
        "CHUNK = 1024\n",
        "duration = 4\n",
        "archivo='test.wav'"
      ],
      "metadata": {
        "id": "wR2rSS6fmj3o"
      },
      "execution_count": null,
      "outputs": []
    },
    {
      "cell_type": "markdown",
      "source": [
        "# Carga de Base de datos"
      ],
      "metadata": {
        "id": "peRAgM1Qpw6b"
      }
    },
    {
      "cell_type": "code",
      "source": [
        "### Obtencion de audios, para tenerlos como base de datos,\n",
        "lista = os.listdir('grabaciones/')\n",
        "listaSonidos =[]  #se almacena el nombre de todas las pistas de audio\n",
        "sonidos =[]   #se alamacena la frecuencia del sonido\n",
        "for i in lista:\n",
        "  if i.endswith('.wav'): #Si termina en wav entonces devuelve verdadero y lo analiza\n",
        "    listaSonidos.append(i) #asigna el archivo a la lista\n",
        "    _, pista = waves.read('grabaciones/'+i)\n",
        "    sonidos.append(pista)\n",
        "print('Se cargo los siguientes audios', listaSonidos)"
      ],
      "metadata": {
        "id": "JI35xivmmtiE"
      },
      "execution_count": null,
      "outputs": []
    },
    {
      "cell_type": "code",
      "source": [
        "#### Normalizar el audio\n",
        "def normalizar(sonido):\n",
        "  amplitud = np.max(sonido) #extrae un canal de audio - el valor max de la frecuencia\n",
        "  print(\"amplitud\")\n",
        "  print(amplitud)\n",
        "  senal = sonido/amplitud\n",
        "  return senal"
      ],
      "metadata": {
        "id": "6rD8kKsAn4eS"
      },
      "execution_count": null,
      "outputs": []
    },
    {
      "cell_type": "code",
      "source": [
        "#se alamacena todas las conversiones de audio en listas para poder usarlas\n",
        "#en el reconocimiento\n",
        "sonidosNormalizados =[]\n",
        "L\n",
        "ffts= []\n",
        "vozC=[]\n",
        "vozF=[]\n",
        "vo2FN=[]\n",
        "for i,sonido in enumerate(sonidos): #Devuelve # de iteracion y el valor\n",
        "  n = normalizar(sonido)  #Devuelve una lista\n",
        "  sonidosNormalizados.append(n) #Asigna a la lista\n",
        "  ffts.append(np.fft.fft(n)) #Calcula la transformada de fourier\n",
        "  vozC.append(ffts[i]*np.conj(ffts[i])) #Se conjuga la fase de los complejos para dar vuelta a la señal\n",
        "  vozF.append(vozC[i][1:100])\n",
        "  vozFN. append(vozF[i]/np.sqrt(np.sum(np.power(np.abs(vozF[i]),2))))"
      ],
      "metadata": {
        "id": "giNK1KTHoTGx"
      },
      "execution_count": null,
      "outputs": []
    },
    {
      "cell_type": "markdown",
      "source": [
        "# Grabar el audio a buscar"
      ],
      "metadata": {
        "id": "e5hB3mXjqLA2"
      }
    },
    {
      "cell_type": "code",
      "source": [
        "# Se configuran las variables para poder grabar audio,\n",
        "#con los parametros indicados en el inicio\n",
        "audio = pyaudio.PyAudio()\n",
        "stream = audio.open(format=FORMAT, channels=CHANNELS, rate=RATE, input=True, frames_per_buffer = CHUNK)"
      ],
      "metadata": {
        "id": "iGtWDKe2o2V4"
      },
      "execution_count": null,
      "outputs": []
    },
    {
      "cell_type": "code",
      "source": [
        "#se graba el audio\n",
        "frames =[]\n",
        "print('Grabacion iniciada')\n",
        "for i in range(0, int(RATE/CHUNK*duration)):\n",
        "  data = stream.read(CHUNK) #lee el audio almacenando en cada cuadro\n",
        "  frames.append(data) #agrega la lista o matriz DATA dentro de FRAMES\n",
        "print('Grabacion finalizada')\n",
        "#Detenmos la grabacion\n",
        "stream.stop_stream()\n",
        "stream.close()\n",
        "audio.terminate()"
      ],
      "metadata": {
        "id": "N1Ti1iS8pH_1"
      },
      "execution_count": null,
      "outputs": []
    },
    {
      "cell_type": "code",
      "source": [
        "#SE genera un archivo de audio wav\n",
        "waveFile = wave.open(archivo,'wb')\n",
        "waveFile.setnchannels(CHANNELS)\n",
        "waveFile.setsampwidth(audio.get_sample_size(FORMAT))\n",
        "waveFile.setframerate(RATE)\n",
        "waveFile.writeframes(b''.join(frames))\n",
        "waveFile.close()"
      ],
      "metadata": {
        "id": "tdV5Ve_DpYmE"
      },
      "execution_count": null,
      "outputs": []
    },
    {
      "cell_type": "code",
      "source": [
        "#reproducir el Audio\n",
        "ipd.Audio('test.wav')"
      ],
      "metadata": {
        "id": "EqcHqtPZpe4G"
      },
      "execution_count": null,
      "outputs": []
    }
  ]
}